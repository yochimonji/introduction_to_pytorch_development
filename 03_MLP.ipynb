{
 "cells": [
  {
   "cell_type": "code",
   "execution_count": 1,
   "metadata": {},
   "outputs": [],
   "source": [
    "import torch\n",
    "from torch import nn, optim\n",
    "from sklearn.datasets import load_digits\n",
    "import matplotlib.pyplot as plt\n",
    "%matplotlib inline"
   ]
  },
  {
   "cell_type": "code",
   "execution_count": 2,
   "metadata": {},
   "outputs": [],
   "source": [
    "net = nn.Sequential(\n",
    "    nn.Linear(64, 32),\n",
    "    nn.ReLU(),\n",
    "    nn.Linear(32, 16),\n",
    "    nn.ReLU(),\n",
    "    nn.Linear(16, 10)\n",
    ")"
   ]
  },
  {
   "cell_type": "code",
   "execution_count": 3,
   "metadata": {},
   "outputs": [],
   "source": [
    "# cpu ver.\n",
    "\n",
    "digits = load_digits()\n",
    "X = digits.data\n",
    "y = digits.target\n",
    "X = torch.tensor(X, dtype=torch.float32)\n",
    "y = torch.tensor(y, dtype=torch.int64)\n",
    "\n",
    "optimizer = optim.Adam(net.parameters())\n",
    "loss_fn = nn.CrossEntropyLoss()\n",
    "losses = []\n",
    "\n",
    "for epoc in range(10000):\n",
    "    optimizer.zero_grad()\n",
    "    y_pred = net(X)\n",
    "    loss = loss_fn(y_pred, y)\n",
    "    loss.backward()\n",
    "    optimizer.step()\n",
    "    losses.append(loss.item())"
   ]
  },
  {
   "cell_type": "code",
   "execution_count": 4,
   "metadata": {},
   "outputs": [],
   "source": [
    "# gpu ver\n",
    "X = digits.data\n",
    "y = digits.target\n",
    "X = torch.tensor(X, dtype=torch.float32).to(\"cuda:0\")\n",
    "y = torch.tensor(y, dtype=torch.int64).to(\"cuda:0\")\n",
    "net.to(\"cuda:0\")\n",
    "\n",
    "optimizer = optim.Adam(net.parameters())\n",
    "loss_fn = nn.CrossEntropyLoss()\n",
    "losses = []\n",
    "\n",
    "for epoc in range(10000):\n",
    "    optimizer.zero_grad()\n",
    "    y_pred = net(X)\n",
    "    loss = loss_fn(y_pred, y)\n",
    "    loss.backward()\n",
    "    optimizer.step()\n",
    "    losses.append(loss.item())"
   ]
  },
  {
   "cell_type": "code",
   "execution_count": 5,
   "metadata": {},
   "outputs": [
    {
     "name": "stdout",
     "output_type": "stream",
     "text": [
      "1.0\n"
     ]
    }
   ],
   "source": [
    "y_pred = net(X)\n",
    "y_pred = torch.argmax(y_pred, dim=1)\n",
    "acc = (y_pred == y).sum().item() / len(y)\n",
    "print(acc)"
   ]
  },
  {
   "cell_type": "code",
   "execution_count": 6,
   "metadata": {},
   "outputs": [],
   "source": [
    "from torch.utils.data import TensorDataset, DataLoader\n",
    "\n",
    "ds = TensorDataset(X, y)\n",
    "loader = DataLoader(ds, batch_size=64, shuffle=True)\n",
    "\n",
    "net = nn.Sequential(\n",
    "    nn.Linear(64, 32),\n",
    "    nn.ReLU(),\n",
    "    nn.Linear(32, 16),\n",
    "    nn.ReLU(),\n",
    "    nn.Linear(16, 10)\n",
    ")\n",
    "net.cuda()\n",
    "optimizer = optim.Adam(net.parameters())\n",
    "loss_fn = nn.CrossEntropyLoss()\n",
    "losses = []\n",
    "\n",
    "for epoc in range(10):\n",
    "    running_loss = 0.0\n",
    "    for xx, yy in loader:\n",
    "        y_pred = net(xx)\n",
    "        loss = loss_fn(y_pred, yy)\n",
    "        optimizer.zero_grad()\n",
    "        loss.backward()\n",
    "        optimizer.step()\n",
    "        running_loss += loss.item()\n",
    "    losses.append(running_loss)"
   ]
  },
  {
   "cell_type": "code",
   "execution_count": 7,
   "metadata": {},
   "outputs": [
    {
     "data": {
      "text/plain": [
       "[<matplotlib.lines.Line2D at 0x7f8cf4449ba8>]"
      ]
     },
     "execution_count": 7,
     "metadata": {},
     "output_type": "execute_result"
    },
    {
     "data": {
      "image/png": "[encoded data removed]",
      "text/plain": [
       "<Figure size 432x288 with 1 Axes>"
      ]
     },
     "metadata": {
      "needs_background": "light"
     },
     "output_type": "display_data"
    }
   ],
   "source": [
    "plt.plot(losses)"
   ]
  },
  {
   "cell_type": "code",
   "execution_count": 8,
   "metadata": {},
   "outputs": [],
   "source": [
    "from sklearn.model_selection import train_test_split\n",
    "\n",
    "X = digits.data\n",
    "y = digits.target\n",
    "X_train, X_test, y_train, y_test = train_test_split(X, y, test_size=0.3)\n",
    "\n",
    "X_train = torch.tensor(X_train, dtype=torch.float32).cuda()\n",
    "y_train = torch.tensor(y_train, dtype=torch.int64).cuda()\n",
    "X_test = torch.tensor(X_test, dtype=torch.float32).cuda()\n",
    "y_test = torch.tensor(y_test, dtype=torch.int64).cuda()\n",
    "\n",
    "k = 100\n",
    "net = nn.Sequential(\n",
    "    nn.Linear(64, k),\n",
    "    nn.ReLU(),\n",
    "    nn.Linear(k, k),\n",
    "    nn.ReLU(),\n",
    "    nn.Linear(k, k),\n",
    "    nn.ReLU(),\n",
    "    nn.Linear(k, k),\n",
    "    nn.ReLU(),\n",
    "    nn.Linear(k, 10)\n",
    ")\n",
    "net.cuda()\n",
    "\n",
    "loss_fn = nn.CrossEntropyLoss()\n",
    "optimizer = optim.Adam(net.parameters())\n",
    "ds = TensorDataset(X_train, y_train)\n",
    "loader = DataLoader(ds, batch_size=32, shuffle=True)"
   ]
  },
  {
   "cell_type": "code",
   "execution_count": 9,
   "metadata": {},
   "outputs": [],
   "source": [
    "train_losses = []\n",
    "test_losses = []\n",
    "for epoc in range(100):\n",
    "    for xx, yy in loader:\n",
    "        y_pred = net(xx)\n",
    "        loss = loss_fn(y_pred, yy)\n",
    "        optimizer.zero_grad()\n",
    "        loss.backward()\n",
    "        optimizer.step()\n",
    "    train_losses.append(loss_fn(net(X_train), y_train).item())\n",
    "    test_losses.append(loss_fn(net(X_test), y_test).item())"
   ]
  },
  {
   "cell_type": "code",
   "execution_count": 10,
   "metadata": {},
   "outputs": [
    {
     "data": {
      "text/plain": [
       "<matplotlib.legend.Legend at 0x7f8cf44c24a8>"
      ]
     },
     "execution_count": 10,
     "metadata": {},
     "output_type": "execute_result"
    },
    {
     "data": {
      "image/png": "[encoded data removed]",
      "text/plain": [
       "<Figure size 432x288 with 1 Axes>"
      ]
     },
     "metadata": {
      "needs_background": "light"
     },
     "output_type": "display_data"
    }
   ],
   "source": [
    "plt.plot(train_losses, label=\"train_losses\")\n",
    "plt.plot(test_losses, label=\"test_losses\")\n",
    "plt.legend()"
   ]
  },
  {
   "cell_type": "code",
   "execution_count": 11,
   "metadata": {},
   "outputs": [
    {
     "data": {
      "text/plain": [
       "Sequential(\n",
       "  (0): Linear(in_features=64, out_features=100, bias=True)\n",
       "  (1): ReLU()\n",
       "  (2): Dropout(p=0.5)\n",
       "  (3): Linear(in_features=100, out_features=100, bias=True)\n",
       "  (4): ReLU()\n",
       "  (5): Dropout(p=0.5)\n",
       "  (6): Linear(in_features=100, out_features=100, bias=True)\n",
       "  (7): ReLU()\n",
       "  (8): Dropout(p=0.5)\n",
       "  (9): Linear(in_features=100, out_features=100, bias=True)\n",
       "  (10): ReLU()\n",
       "  (11): Dropout(p=0.5)\n",
       "  (12): Linear(in_features=100, out_features=10, bias=True)\n",
       ")"
      ]
     },
     "execution_count": 11,
     "metadata": {},
     "output_type": "execute_result"
    }
   ],
   "source": [
    "net = nn.Sequential(\n",
    "    nn.Linear(64, k),\n",
    "    nn.ReLU(),\n",
    "    nn.Dropout(0.5),\n",
    "    nn.Linear(k, k),\n",
    "    nn.ReLU(),\n",
    "    nn.Dropout(0.5),\n",
    "    nn.Linear(k, k),\n",
    "    nn.ReLU(),\n",
    "    nn.Dropout(0.5),\n",
    "    nn.Linear(k, k),\n",
    "    nn.ReLU(),\n",
    "    nn.Dropout(0.5),\n",
    "    nn.Linear(k, 10)\n",
    ")\n",
    "net.cuda()"
   ]
  },
  {
   "cell_type": "code",
   "execution_count": 12,
   "metadata": {},
   "outputs": [],
   "source": [
    "optimizer = optim.Adam(net.parameters())\n",
    "train_losses = []\n",
    "test_losses = []\n",
    "for epoc in range(100):\n",
    "    net.train()\n",
    "    for xx, yy in loader:\n",
    "        y_pred = net(xx)\n",
    "        loss = loss_fn(y_pred, yy)\n",
    "        optimizer.zero_grad()\n",
    "        loss.backward()\n",
    "        optimizer.step()\n",
    "    net.eval()\n",
    "    train_losses.append(loss_fn(net(X_train), y_train).item())\n",
    "    test_losses.append(loss_fn(net(X_test), y_test).item())"
   ]
  },
  {
   "cell_type": "code",
   "execution_count": 13,
   "metadata": {},
   "outputs": [
    {
     "data": {
      "text/plain": [
       "<matplotlib.legend.Legend at 0x7f8cf4526e80>"
      ]
     },
     "execution_count": 13,
     "metadata": {},
     "output_type": "execute_result"
    },
    {
     "data": {
      "image/png": "[encoded data removed]",
      "text/plain": [
       "<Figure size 432x288 with 1 Axes>"
      ]
     },
     "metadata": {
      "needs_background": "light"
     },
     "output_type": "display_data"
    }
   ],
   "source": [
    "plt.plot(train_losses, label=\"train_losses\")\n",
    "plt.plot(test_losses, label=\"test_losses\")\n",
    "plt.legend()"
   ]
  },
  {
   "cell_type": "code",
   "execution_count": 14,
   "metadata": {},
   "outputs": [
    {
     "name": "stdout",
     "output_type": "stream",
     "text": [
      "train: 0.9984089101034208\n",
      "test: 0.9722222222222222\n"
     ]
    }
   ],
   "source": [
    "y_train_pred = net(X_train).argmax(dim=1)\n",
    "y_test_pred = net(X_test).argmax(dim=1)\n",
    "print(\"train:\", (y_train_pred == y_train).sum().item() / len(y_train))\n",
    "print(\"test:\", (y_test_pred == y_test).sum().item() / len(y_test))"
   ]
  },
  {
   "cell_type": "code",
   "execution_count": 15,
   "metadata": {},
   "outputs": [
    {
     "name": "stdout",
     "output_type": "stream",
     "text": [
      "train: 1.0\n",
      "test: 0.975925925925926\n"
     ]
    },
    {
     "data": {
      "image/png": "[encoded data removed]",
      "text/plain": [
       "<Figure size 432x288 with 1 Axes>"
      ]
     },
     "metadata": {
      "needs_background": "light"
     },
     "output_type": "display_data"
    }
   ],
   "source": [
    "net = nn.Sequential(\n",
    "    nn.Linear(64, k),\n",
    "    nn.ReLU(),\n",
    "    nn.BatchNorm1d(k),\n",
    "    nn.Linear(k, k),\n",
    "    nn.ReLU(),\n",
    "    nn.BatchNorm1d(k),\n",
    "    nn.Linear(k, k),\n",
    "    nn.ReLU(),\n",
    "    nn.BatchNorm1d(k),\n",
    "    nn.Linear(k, k),\n",
    "    nn.ReLU(),\n",
    "    nn.BatchNorm1d(k),\n",
    "    nn.Linear(k, 10)\n",
    ")\n",
    "net.cuda()\n",
    "\n",
    "optimizer = optim.Adam(net.parameters())\n",
    "train_losses = []\n",
    "test_losses = []\n",
    "for epoc in range(100):\n",
    "    net.train()\n",
    "    for xx, yy in loader:\n",
    "        y_pred = net(xx)\n",
    "        loss = loss_fn(y_pred, yy)\n",
    "        optimizer.zero_grad()\n",
    "        loss.backward()\n",
    "        optimizer.step()\n",
    "    net.eval()\n",
    "    train_losses.append(loss_fn(net(X_train), y_train).item())\n",
    "    test_losses.append(loss_fn(net(X_test), y_test).item())\n",
    "    \n",
    "plt.plot(train_losses, label=\"train_losses\")\n",
    "plt.plot(test_losses, label=\"test_losses\")\n",
    "plt.legend()\n",
    "\n",
    "y_train_pred = net(X_train).argmax(dim=1)\n",
    "y_test_pred = net(X_test).argmax(dim=1)\n",
    "print(\"train:\", (y_train_pred == y_train).sum().item() / len(y_train))\n",
    "print(\"test:\", (y_test_pred == y_test).sum().item() / len(y_test))"
   ]
  },
  {
   "cell_type": "code",
   "execution_count": 20,
   "metadata": {},
   "outputs": [
    {
     "name": "stdout",
     "output_type": "stream",
     "text": [
      "train: 0.9976133651551312\n",
      "test: 0.9666666666666667\n"
     ]
    },
    {
     "data": {
      "image/png": "[encoded data removed]",
      "text/plain": [
       "<Figure size 432x288 with 1 Axes>"
      ]
     },
     "metadata": {
      "needs_background": "light"
     },
     "output_type": "display_data"
    }
   ],
   "source": [
    "class CustomLinear(nn.Module):\n",
    "    def __init__(self, in_features, out_features, bias=True, p=0.5):\n",
    "        super().__init__()\n",
    "        self.linear = nn.Linear(in_features, out_features, bias)\n",
    "        self.relu = nn.ReLU()\n",
    "        self.drop = nn.Dropout(p)\n",
    "        \n",
    "    def forward(self, x):\n",
    "        x = self.linear(x)\n",
    "        x = self.relu(x)\n",
    "        x = self.drop(x)\n",
    "        return x\n",
    "    \n",
    "mlp = nn.Sequential(\n",
    "    CustomLinear(64, 200),\n",
    "    CustomLinear(200, 200),\n",
    "    CustomLinear(200, 200),\n",
    "    CustomLinear(200, 10)\n",
    ")\n",
    "mlp.cuda()\n",
    "\n",
    "\n",
    "optimizer = optim.Adam(mlp.parameters())\n",
    "train_losses = []\n",
    "test_losses = []\n",
    "for epoc in range(100):\n",
    "    mlp.train()\n",
    "    for xx, yy in loader:\n",
    "        y_pred = mlp(xx)\n",
    "        loss = loss_fn(y_pred, yy)\n",
    "        optimizer.zero_grad()\n",
    "        loss.backward()\n",
    "        optimizer.step()\n",
    "    mlp.eval()\n",
    "    train_losses.append(loss_fn(mlp(X_train), y_train).item())\n",
    "    test_losses.append(loss_fn(mlp(X_test), y_test).item())\n",
    "    \n",
    "plt.plot(train_losses, label=\"train_losses\")\n",
    "plt.plot(test_losses, label=\"test_losses\")\n",
    "plt.legend()\n",
    "\n",
    "y_train_pred = mlp(X_train).argmax(dim=1)\n",
    "y_test_pred = mlp(X_test).argmax(dim=1)\n",
    "print(\"train:\", (y_train_pred == y_train).sum().item() / len(y_train))\n",
    "print(\"test:\", (y_test_pred == y_test).sum().item() / len(y_test))"
   ]
  },
  {
   "cell_type": "code",
   "execution_count": 22,
   "metadata": {},
   "outputs": [
    {
     "name": "stdout",
     "output_type": "stream",
     "text": [
      "train: 0.8989657915672236\n",
      "test: 0.8574074074074074\n"
     ]
    },
    {
     "data": {
      "image/png": "[encoded data removed]",
      "text/plain": [
       "<Figure size 432x288 with 1 Axes>"
      ]
     },
     "metadata": {
      "needs_background": "light"
     },
     "output_type": "display_data"
    }
   ],
   "source": [
    "class MyMLP(nn.Module):\n",
    "    def __init__(self, in_features, out_features):\n",
    "        super().__init__()\n",
    "        self.ln1 = CustomLinear(in_features, 200)\n",
    "        self.ln2 = CustomLinear(200, 200)\n",
    "        self.ln3 = CustomLinear(200, 200)\n",
    "        self.ln4 = CustomLinear(200, out_features)\n",
    "        \n",
    "    def forward(self, x):\n",
    "        x = self.ln1(x)\n",
    "        x = self.ln2(x)\n",
    "        x = self.ln3(x)\n",
    "        x = self.ln4(x)\n",
    "        return x\n",
    "\n",
    "mlp = MyMLP(64, 10)\n",
    "mlp.cuda()\n",
    "\n",
    "\n",
    "optimizer = optim.Adam(mlp.parameters())\n",
    "train_losses = []\n",
    "test_losses = []\n",
    "for epoc in range(100):\n",
    "    mlp.train()\n",
    "    for xx, yy in loader:\n",
    "        y_pred = mlp(xx)\n",
    "        loss = loss_fn(y_pred, yy)\n",
    "        optimizer.zero_grad()\n",
    "        loss.backward()\n",
    "        optimizer.step()\n",
    "    mlp.eval()\n",
    "    train_losses.append(loss_fn(mlp(X_train), y_train).item())\n",
    "    test_losses.append(loss_fn(mlp(X_test), y_test).item())\n",
    "    \n",
    "plt.plot(train_losses, label=\"train_losses\")\n",
    "plt.plot(test_losses, label=\"test_losses\")\n",
    "plt.legend()\n",
    "\n",
    "y_train_pred = mlp(X_train).argmax(dim=1)\n",
    "y_test_pred = mlp(X_test).argmax(dim=1)\n",
    "print(\"train:\", (y_train_pred == y_train).sum().item() / len(y_train))\n",
    "print(\"test:\", (y_test_pred == y_test).sum().item() / len(y_test))"
   ]
  },
  {
   "cell_type": "code",
   "execution_count": null,
   "metadata": {},
   "outputs": [],
   "source": []
  }
 ],
 "metadata": {
  "kernelspec": {
   "display_name": "Python 3",
   "language": "python",
   "name": "python3"
  },
  "language_info": {
   "codemirror_mode": {
    "name": "ipython",
    "version": 3
   },
   "file_extension": ".py",
   "mimetype": "text/x-python",
   "name": "python",
   "nbconvert_exporter": "python",
   "pygments_lexer": "ipython3",
   "version": "3.6.10"
  }
 },
 "nbformat": 4,
 "nbformat_minor": 4
}
