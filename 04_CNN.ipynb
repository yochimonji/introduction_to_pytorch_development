{
 "cells": [
  {
   "cell_type": "code",
   "execution_count": 1,
   "metadata": {},
   "outputs": [],
   "source": [
    "import torch\n",
    "from torch import nn, optim\n",
    "from torch.utils.data import Dataset, DataLoader, TensorDataset\n",
    "import tqdm\n",
    "import matplotlib.pyplot as plt\n",
    "%matplotlib inline"
   ]
  },
  {
   "cell_type": "code",
   "execution_count": 4,
   "metadata": {},
   "outputs": [],
   "source": [
    "from torchvision.datasets import FashionMNIST\n",
    "from torchvision import transforms\n",
    "\n",
    "fashion_mnist_train = FashionMNIST(\"./data/FashionMNIST\", train=True,\n",
    "                                   download=True, transform=transforms.ToTensor())\n",
    "fashion_mnist_test = FashionMNIST(\"./data/FashionMNIST\", train=False,\n",
    "                                   download=True, transform=transforms.ToTensor())\n",
    "\n",
    "batch_size = 128\n",
    "train_loader = DataLoader(fashion_mnist_train, batch_size=batch_size,\n",
    "                          shuffle=True, num_workers=14)\n",
    "test_loader = DataLoader(fashion_mnist_test, batch_size=batch_size,\n",
    "                         shuffle=True, num_workers=14)"
   ]
  },
  {
   "cell_type": "code",
   "execution_count": 5,
   "metadata": {},
   "outputs": [
    {
     "data": {
      "text/plain": [
       "'\\nnet = nn.Sequential(\\n    FlattenLayer(),\\n    nn.Linear(784, 200),\\n    nn.ReLU(),\\n    nn.BatchNorm1d(200),\\n    nn.Dropout(0.25),\\n    nn.Linear(200, 200),\\n    nn.ReLU(),\\n    nn.BatchNorm1d(200),\\n    nn.Dropout(0.25),\\n    nn.Linear(200, 200),\\n    nn.ReLU(),\\n    nn.BatchNorm1d(200),\\n    nn.Dropout(0.25),\\n    nn.Linear(200, 10)\\n)\\n'"
      ]
     },
     "execution_count": 5,
     "metadata": {},
     "output_type": "execute_result"
    }
   ],
   "source": [
    "class FlattenLayer(nn.Module):\n",
    "    def forward(self, x):\n",
    "        return torch.flatten(x, start_dim=1)\n",
    "\n",
    "conv_net = nn.Sequential(\n",
    "    nn.Conv2d(in_channels=1, out_channels=32, kernel_size=5),\n",
    "    nn.MaxPool2d(2),\n",
    "    nn.ReLU(),\n",
    "    nn.BatchNorm2d(32),\n",
    "    nn.Dropout2d(0.25),\n",
    "    nn.Conv2d(in_channels=32, out_channels=64, kernel_size=5),\n",
    "    nn.MaxPool2d(2),\n",
    "    nn.ReLU(),\n",
    "    nn.BatchNorm2d(64),\n",
    "    nn.Dropout2d(0.25),\n",
    "    FlattenLayer()\n",
    ")\n",
    "\n",
    "test_input = torch.ones(1, 1, 28, 28)\n",
    "conv_output_size = conv_net(test_input).size()[-1]\n",
    "\n",
    "mlp = nn.Sequential(\n",
    "    nn.Linear(conv_output_size, 200),\n",
    "    nn.ReLU(),\n",
    "    nn.BatchNorm1d(200),\n",
    "    nn.Dropout(0.25),\n",
    "    nn.Linear(200, 10)\n",
    ")\n",
    "\n",
    "net = nn.Sequential(\n",
    "    conv_net,\n",
    "    mlp\n",
    ")\n",
    "'''\n",
    "net = nn.Sequential(\n",
    "    FlattenLayer(),\n",
    "    nn.Linear(784, 200),\n",
    "    nn.ReLU(),\n",
    "    nn.BatchNorm1d(200),\n",
    "    nn.Dropout(0.25),\n",
    "    nn.Linear(200, 200),\n",
    "    nn.ReLU(),\n",
    "    nn.BatchNorm1d(200),\n",
    "    nn.Dropout(0.25),\n",
    "    nn.Linear(200, 200),\n",
    "    nn.ReLU(),\n",
    "    nn.BatchNorm1d(200),\n",
    "    nn.Dropout(0.25),\n",
    "    nn.Linear(200, 10)\n",
    ")\n",
    "'''"
   ]
  },
  {
   "cell_type": "code",
   "execution_count": 6,
   "metadata": {},
   "outputs": [],
   "source": [
    "def eval_net(net, data_loader, device=\"cpu\"):\n",
    "    net.eval()\n",
    "    ys = []\n",
    "    ypreds = []\n",
    "    for x, y in data_loader:\n",
    "        x = x.to(device)\n",
    "        y = y.to(device)\n",
    "        with torch.no_grad():\n",
    "            _, y_pred = net(x).max(1)\n",
    "        ys.append(y)\n",
    "        ypreds.append(y_pred)\n",
    "    ys = torch.cat(ys)\n",
    "    ypreds = torch.cat(ypreds)\n",
    "    acc = (ys == ypreds).float().sum() / len(ys)\n",
    "    return acc.item()\n",
    "\n",
    "train_losses = []\n",
    "train_acc = []\n",
    "val_acc = []\n",
    "\n",
    "def train_net(net, train_loader, test_loader, optimizer_cls=optim.Adam,\n",
    "              loss_fn=nn.CrossEntropyLoss(), n_iter=10, device=\"cpu\"):\n",
    "    optimizer = optimizer_cls(net.parameters())\n",
    "    for epoc in range(n_iter):\n",
    "        running_loss = 0.0\n",
    "        net.train()\n",
    "        n = 0\n",
    "        n_acc = 0\n",
    "        for i, (xx, yy) in tqdm.tqdm(enumerate(train_loader),\n",
    "                                     total = len(train_loader)):\n",
    "            xx = xx.to(device)\n",
    "            yy = yy.to(device)\n",
    "            h = net(xx)\n",
    "            loss = loss_fn(h, yy)\n",
    "            optimizer.zero_grad()\n",
    "            loss.backward()\n",
    "            optimizer.step()\n",
    "            running_loss += loss.item()\n",
    "            n += len(xx)\n",
    "            y_pred = h.argmax(1)\n",
    "            n_acc += (y_pred == yy).float().sum().item()\n",
    "        train_losses.append(running_loss / i)\n",
    "        train_acc.append(n_acc / n)\n",
    "        val_acc.append(eval_net(net, test_loader, device))\n",
    "        print(\"epoc: {}\\ttrain_loss: {:.3f}\\ttrain_acc: {:.3f}\\tval_acc: {:.3f}\".format(\n",
    "             epoc, train_losses[-1], train_acc[-1], val_acc[-1]), flush=True)"
   ]
  },
  {
   "cell_type": "code",
   "execution_count": 7,
   "metadata": {},
   "outputs": [
    {
     "name": "stderr",
     "output_type": "stream",
     "text": [
      "100%|██████████| 469/469 [00:01<00:00, 272.23it/s]\n"
     ]
    },
    {
     "name": "stdout",
     "output_type": "stream",
     "text": [
      "epoc: 0\ttrain_loss: 0.468\ttrain_acc: 0.835\tval_acc: 0.883\n"
     ]
    },
    {
     "name": "stderr",
     "output_type": "stream",
     "text": [
      "100%|██████████| 469/469 [00:01<00:00, 268.94it/s]\n"
     ]
    },
    {
     "name": "stdout",
     "output_type": "stream",
     "text": [
      "epoc: 1\ttrain_loss: 0.322\ttrain_acc: 0.882\tval_acc: 0.893\n"
     ]
    },
    {
     "name": "stderr",
     "output_type": "stream",
     "text": [
      "100%|██████████| 469/469 [00:01<00:00, 269.33it/s]\n"
     ]
    },
    {
     "name": "stdout",
     "output_type": "stream",
     "text": [
      "epoc: 2\ttrain_loss: 0.287\ttrain_acc: 0.894\tval_acc: 0.904\n"
     ]
    },
    {
     "name": "stderr",
     "output_type": "stream",
     "text": [
      "100%|██████████| 469/469 [00:01<00:00, 271.48it/s]\n"
     ]
    },
    {
     "name": "stdout",
     "output_type": "stream",
     "text": [
      "epoc: 3\ttrain_loss: 0.262\ttrain_acc: 0.903\tval_acc: 0.902\n"
     ]
    },
    {
     "name": "stderr",
     "output_type": "stream",
     "text": [
      "100%|██████████| 469/469 [00:01<00:00, 273.53it/s]\n"
     ]
    },
    {
     "name": "stdout",
     "output_type": "stream",
     "text": [
      "epoc: 4\ttrain_loss: 0.246\ttrain_acc: 0.909\tval_acc: 0.901\n"
     ]
    },
    {
     "name": "stderr",
     "output_type": "stream",
     "text": [
      "100%|██████████| 469/469 [00:01<00:00, 271.07it/s]\n"
     ]
    },
    {
     "name": "stdout",
     "output_type": "stream",
     "text": [
      "epoc: 5\ttrain_loss: 0.233\ttrain_acc: 0.914\tval_acc: 0.902\n"
     ]
    },
    {
     "name": "stderr",
     "output_type": "stream",
     "text": [
      "100%|██████████| 469/469 [00:01<00:00, 286.36it/s]\n"
     ]
    },
    {
     "name": "stdout",
     "output_type": "stream",
     "text": [
      "epoc: 6\ttrain_loss: 0.224\ttrain_acc: 0.917\tval_acc: 0.910\n"
     ]
    },
    {
     "name": "stderr",
     "output_type": "stream",
     "text": [
      "100%|██████████| 469/469 [00:01<00:00, 268.06it/s]\n"
     ]
    },
    {
     "name": "stdout",
     "output_type": "stream",
     "text": [
      "epoc: 7\ttrain_loss: 0.214\ttrain_acc: 0.920\tval_acc: 0.913\n"
     ]
    },
    {
     "name": "stderr",
     "output_type": "stream",
     "text": [
      "100%|██████████| 469/469 [00:01<00:00, 268.77it/s]\n"
     ]
    },
    {
     "name": "stdout",
     "output_type": "stream",
     "text": [
      "epoc: 8\ttrain_loss: 0.207\ttrain_acc: 0.923\tval_acc: 0.907\n"
     ]
    },
    {
     "name": "stderr",
     "output_type": "stream",
     "text": [
      "100%|██████████| 469/469 [00:01<00:00, 276.02it/s]\n"
     ]
    },
    {
     "name": "stdout",
     "output_type": "stream",
     "text": [
      "epoc: 9\ttrain_loss: 0.200\ttrain_acc: 0.925\tval_acc: 0.913\n"
     ]
    },
    {
     "name": "stderr",
     "output_type": "stream",
     "text": [
      "100%|██████████| 469/469 [00:01<00:00, 271.19it/s]\n"
     ]
    },
    {
     "name": "stdout",
     "output_type": "stream",
     "text": [
      "epoc: 10\ttrain_loss: 0.195\ttrain_acc: 0.926\tval_acc: 0.916\n"
     ]
    },
    {
     "name": "stderr",
     "output_type": "stream",
     "text": [
      "100%|██████████| 469/469 [00:01<00:00, 273.67it/s]\n"
     ]
    },
    {
     "name": "stdout",
     "output_type": "stream",
     "text": [
      "epoc: 11\ttrain_loss: 0.186\ttrain_acc: 0.930\tval_acc: 0.914\n"
     ]
    },
    {
     "name": "stderr",
     "output_type": "stream",
     "text": [
      "100%|██████████| 469/469 [00:01<00:00, 280.57it/s]\n"
     ]
    },
    {
     "name": "stdout",
     "output_type": "stream",
     "text": [
      "epoc: 12\ttrain_loss: 0.183\ttrain_acc: 0.931\tval_acc: 0.915\n"
     ]
    },
    {
     "name": "stderr",
     "output_type": "stream",
     "text": [
      "100%|██████████| 469/469 [00:01<00:00, 272.06it/s]\n"
     ]
    },
    {
     "name": "stdout",
     "output_type": "stream",
     "text": [
      "epoc: 13\ttrain_loss: 0.175\ttrain_acc: 0.934\tval_acc: 0.917\n"
     ]
    },
    {
     "name": "stderr",
     "output_type": "stream",
     "text": [
      "100%|██████████| 469/469 [00:01<00:00, 277.49it/s]\n"
     ]
    },
    {
     "name": "stdout",
     "output_type": "stream",
     "text": [
      "epoc: 14\ttrain_loss: 0.174\ttrain_acc: 0.936\tval_acc: 0.919\n"
     ]
    },
    {
     "name": "stderr",
     "output_type": "stream",
     "text": [
      "100%|██████████| 469/469 [00:01<00:00, 272.57it/s]\n"
     ]
    },
    {
     "name": "stdout",
     "output_type": "stream",
     "text": [
      "epoc: 15\ttrain_loss: 0.168\ttrain_acc: 0.936\tval_acc: 0.919\n"
     ]
    },
    {
     "name": "stderr",
     "output_type": "stream",
     "text": [
      "100%|██████████| 469/469 [00:01<00:00, 268.95it/s]\n"
     ]
    },
    {
     "name": "stdout",
     "output_type": "stream",
     "text": [
      "epoc: 16\ttrain_loss: 0.164\ttrain_acc: 0.939\tval_acc: 0.920\n"
     ]
    },
    {
     "name": "stderr",
     "output_type": "stream",
     "text": [
      "100%|██████████| 469/469 [00:01<00:00, 271.35it/s]\n"
     ]
    },
    {
     "name": "stdout",
     "output_type": "stream",
     "text": [
      "epoc: 17\ttrain_loss: 0.159\ttrain_acc: 0.940\tval_acc: 0.921\n"
     ]
    },
    {
     "name": "stderr",
     "output_type": "stream",
     "text": [
      "100%|██████████| 469/469 [00:01<00:00, 273.78it/s]\n"
     ]
    },
    {
     "name": "stdout",
     "output_type": "stream",
     "text": [
      "epoc: 18\ttrain_loss: 0.159\ttrain_acc: 0.940\tval_acc: 0.919\n"
     ]
    },
    {
     "name": "stderr",
     "output_type": "stream",
     "text": [
      "100%|██████████| 469/469 [00:01<00:00, 268.61it/s]\n"
     ]
    },
    {
     "name": "stdout",
     "output_type": "stream",
     "text": [
      "epoc: 19\ttrain_loss: 0.152\ttrain_acc: 0.943\tval_acc: 0.918\n"
     ]
    }
   ],
   "source": [
    "net.to(\"cuda:0\")\n",
    "train_net(net, train_loader, test_loader, n_iter=20, device=\"cuda:0\")"
   ]
  },
  {
   "cell_type": "code",
   "execution_count": 8,
   "metadata": {},
   "outputs": [
    {
     "data": {
      "text/plain": [
       "<matplotlib.legend.Legend at 0x7f45c837a2e8>"
      ]
     },
     "execution_count": 8,
     "metadata": {},
     "output_type": "execute_result"
    },
    {
     "data": {
      "image/png": "[encoded data removed]",
      "text/plain": [
       "<Figure size 432x288 with 1 Axes>"
      ]
     },
     "metadata": {
      "needs_background": "light"
     },
     "output_type": "display_data"
    }
   ],
   "source": [
    "plt.plot(train_acc, label=\"train_acc\")\n",
    "plt.plot(val_acc, label=\"val_acc\")\n",
    "plt.legend()"
   ]
  },
  {
   "cell_type": "code",
   "execution_count": 2,
   "metadata": {},
   "outputs": [
    {
     "name": "stdout",
     "output_type": "stream",
     "text": [
      "['burrito', 'taco']\n",
      "{'burrito': 0, 'taco': 1}\n",
      "Dataset ImageFolder\n",
      "    Number of datapoints: 712\n",
      "    Root Location: ./data/taco_and_burrito/train/\n",
      "    Transforms (if any): Compose(\n",
      "                             RandomCrop(size=(224, 224), padding=0)\n",
      "                             ToTensor()\n",
      "                         )\n",
      "    Target Transforms (if any): None\n"
     ]
    }
   ],
   "source": [
    "from torchvision.datasets import ImageFolder\n",
    "from torchvision import transforms\n",
    "\n",
    "train_imgs = ImageFolder(\n",
    "    \"./data/taco_and_burrito/train/\",\n",
    "    transform=transforms.Compose([transforms.RandomCrop(224), transforms.ToTensor()])\n",
    ")\n",
    "test_imgs = ImageFolder(\n",
    "    \"./data/taco_and_burrito/test/\",\n",
    "    transform=transforms.Compose([transforms.CenterCrop(224), transforms.ToTensor()])\n",
    ")\n",
    "\n",
    "train_loader = DataLoader(train_imgs, batch_size=32,\n",
    "                          shuffle=True, num_workers=14)\n",
    "test_loader = DataLoader(test_imgs, batch_size=32,\n",
    "                         shuffle=True, num_workers=14)\n",
    "\n",
    "print(train_imgs.classes)\n",
    "print(train_imgs.class_to_idx)\n",
    "print(train_imgs)"
   ]
  },
  {
   "cell_type": "code",
   "execution_count": 3,
   "metadata": {},
   "outputs": [],
   "source": [
    "from torchvision.models import resnet18\n",
    "\n",
    "net = resnet18(pretrained=True)\n",
    "\n",
    "for p in net.parameters():\n",
    "    p.requires_grad=False\n",
    "    \n",
    "fc_input_dim = net.fc.in_features\n",
    "net.fc = nn.Linear(fc_input_dim, 2)"
   ]
  },
  {
   "cell_type": "code",
   "execution_count": 4,
   "metadata": {},
   "outputs": [],
   "source": [
    "def eval_net(net, data_loader, device=\"cpu\"):\n",
    "    net.eval()\n",
    "    ys = []\n",
    "    ypreds = []\n",
    "    for x, y in data_loader:\n",
    "        x = x.to(device)\n",
    "        y = y.to(device)\n",
    "        with torch.no_grad():\n",
    "            y_pred = net(x).argmax(1)\n",
    "        ys.append(y)\n",
    "        ypreds.append(y_pred)\n",
    "    ys = torch.cat(ys)\n",
    "    ypreds = torch.cat(ypreds)\n",
    "    acc = (ys == ypreds).float().sum() / len(ys)\n",
    "    return acc.item()\n",
    "\n",
    "train_losses = []\n",
    "train_acc = []\n",
    "val_acc = []\n",
    "\n",
    "def train_net(net, train_loader, test_loader, only_fc=True,\n",
    "              optimizer_cls=optim.Adam, loss_fn=nn.CrossEntropyLoss(),\n",
    "              n_iter=10, device=\"cpu\"):\n",
    "    if only_fc:\n",
    "        optimizer = optimizer_cls(net.fc.parameters())\n",
    "    else:\n",
    "        optimizer = optimizer_cls(net.parameters())\n",
    "    for epoc in range(n_iter):\n",
    "        running_loss = 0.0\n",
    "        net.train()\n",
    "        n = 0\n",
    "        n_acc = 0\n",
    "        for i, (xx, yy) in tqdm.tqdm(enumerate(train_loader),\n",
    "                                     total = len(train_loader)):\n",
    "            xx = xx.to(device)\n",
    "            yy = yy.to(device)\n",
    "            h = net(xx)\n",
    "            loss = loss_fn(h, yy)\n",
    "            optimizer.zero_grad()\n",
    "            running_loss += loss\n",
    "            loss.backward()\n",
    "            optimizer.step()\n",
    "            n += len(xx)\n",
    "            y_pred = h.argmax(1)\n",
    "            n_acc += (yy == y_pred).float().sum().item()\n",
    "        train_losses.append(running_loss / i)\n",
    "        train_acc.append(n_acc / n)\n",
    "        val_acc.append(eval_net(net, test_loader, device))\n",
    "        print(\"epoc: {}\\ttrain_loss: {:.3f}\\ttrain_acc: {:.3f}\\tval_acc: {:.3f}\".format(\n",
    "             epoc, train_losses[-1], train_acc[-1], val_acc[-1]), flush=True)"
   ]
  },
  {
   "cell_type": "code",
   "execution_count": 5,
   "metadata": {},
   "outputs": [
    {
     "name": "stderr",
     "output_type": "stream",
     "text": [
      "100%|██████████| 23/23 [00:00<00:00, 25.26it/s]\n"
     ]
    },
    {
     "name": "stdout",
     "output_type": "stream",
     "text": [
      "epoc: 0\ttrain_loss: 0.676\ttrain_acc: 0.610\tval_acc: 0.750\n"
     ]
    },
    {
     "name": "stderr",
     "output_type": "stream",
     "text": [
      "100%|██████████| 23/23 [00:00<00:00, 27.60it/s]\n"
     ]
    },
    {
     "name": "stdout",
     "output_type": "stream",
     "text": [
      "epoc: 1\ttrain_loss: 0.536\ttrain_acc: 0.779\tval_acc: 0.833\n"
     ]
    },
    {
     "name": "stderr",
     "output_type": "stream",
     "text": [
      "100%|██████████| 23/23 [00:00<00:00, 27.34it/s]\n"
     ]
    },
    {
     "name": "stdout",
     "output_type": "stream",
     "text": [
      "epoc: 2\ttrain_loss: 0.444\ttrain_acc: 0.815\tval_acc: 0.817\n"
     ]
    },
    {
     "name": "stderr",
     "output_type": "stream",
     "text": [
      "100%|██████████| 23/23 [00:00<00:00, 28.33it/s]\n"
     ]
    },
    {
     "name": "stdout",
     "output_type": "stream",
     "text": [
      "epoc: 3\ttrain_loss: 0.424\ttrain_acc: 0.833\tval_acc: 0.850\n"
     ]
    },
    {
     "name": "stderr",
     "output_type": "stream",
     "text": [
      "100%|██████████| 23/23 [00:00<00:00, 26.69it/s]\n"
     ]
    },
    {
     "name": "stdout",
     "output_type": "stream",
     "text": [
      "epoc: 4\ttrain_loss: 0.428\ttrain_acc: 0.826\tval_acc: 0.850\n"
     ]
    },
    {
     "name": "stderr",
     "output_type": "stream",
     "text": [
      "100%|██████████| 23/23 [00:00<00:00, 27.44it/s]\n"
     ]
    },
    {
     "name": "stdout",
     "output_type": "stream",
     "text": [
      "epoc: 5\ttrain_loss: 0.381\ttrain_acc: 0.854\tval_acc: 0.800\n"
     ]
    },
    {
     "name": "stderr",
     "output_type": "stream",
     "text": [
      "100%|██████████| 23/23 [00:00<00:00, 27.23it/s]\n"
     ]
    },
    {
     "name": "stdout",
     "output_type": "stream",
     "text": [
      "epoc: 6\ttrain_loss: 0.349\ttrain_acc: 0.860\tval_acc: 0.883\n"
     ]
    },
    {
     "name": "stderr",
     "output_type": "stream",
     "text": [
      "100%|██████████| 23/23 [00:00<00:00, 28.11it/s]\n"
     ]
    },
    {
     "name": "stdout",
     "output_type": "stream",
     "text": [
      "epoc: 7\ttrain_loss: 0.403\ttrain_acc: 0.837\tval_acc: 0.833\n"
     ]
    },
    {
     "name": "stderr",
     "output_type": "stream",
     "text": [
      "100%|██████████| 23/23 [00:00<00:00, 27.58it/s]\n"
     ]
    },
    {
     "name": "stdout",
     "output_type": "stream",
     "text": [
      "epoc: 8\ttrain_loss: 0.341\ttrain_acc: 0.865\tval_acc: 0.850\n"
     ]
    },
    {
     "name": "stderr",
     "output_type": "stream",
     "text": [
      "100%|██████████| 23/23 [00:00<00:00, 27.74it/s]\n"
     ]
    },
    {
     "name": "stdout",
     "output_type": "stream",
     "text": [
      "epoc: 9\ttrain_loss: 0.345\ttrain_acc: 0.872\tval_acc: 0.883\n"
     ]
    },
    {
     "name": "stderr",
     "output_type": "stream",
     "text": [
      "100%|██████████| 23/23 [00:00<00:00, 27.53it/s]\n"
     ]
    },
    {
     "name": "stdout",
     "output_type": "stream",
     "text": [
      "epoc: 10\ttrain_loss: 0.316\ttrain_acc: 0.872\tval_acc: 0.850\n"
     ]
    },
    {
     "name": "stderr",
     "output_type": "stream",
     "text": [
      "100%|██████████| 23/23 [00:00<00:00, 27.56it/s]\n"
     ]
    },
    {
     "name": "stdout",
     "output_type": "stream",
     "text": [
      "epoc: 11\ttrain_loss: 0.316\ttrain_acc: 0.867\tval_acc: 0.783\n"
     ]
    },
    {
     "name": "stderr",
     "output_type": "stream",
     "text": [
      "100%|██████████| 23/23 [00:00<00:00, 28.26it/s]\n"
     ]
    },
    {
     "name": "stdout",
     "output_type": "stream",
     "text": [
      "epoc: 12\ttrain_loss: 0.339\ttrain_acc: 0.865\tval_acc: 0.817\n"
     ]
    },
    {
     "name": "stderr",
     "output_type": "stream",
     "text": [
      "100%|██████████| 23/23 [00:00<00:00, 28.65it/s]\n"
     ]
    },
    {
     "name": "stdout",
     "output_type": "stream",
     "text": [
      "epoc: 13\ttrain_loss: 0.306\ttrain_acc: 0.883\tval_acc: 0.883\n"
     ]
    },
    {
     "name": "stderr",
     "output_type": "stream",
     "text": [
      "100%|██████████| 23/23 [00:00<00:00, 27.73it/s]\n"
     ]
    },
    {
     "name": "stdout",
     "output_type": "stream",
     "text": [
      "epoc: 14\ttrain_loss: 0.301\ttrain_acc: 0.871\tval_acc: 0.900\n"
     ]
    },
    {
     "name": "stderr",
     "output_type": "stream",
     "text": [
      "100%|██████████| 23/23 [00:00<00:00, 27.69it/s]\n"
     ]
    },
    {
     "name": "stdout",
     "output_type": "stream",
     "text": [
      "epoc: 15\ttrain_loss: 0.312\ttrain_acc: 0.881\tval_acc: 0.867\n"
     ]
    },
    {
     "name": "stderr",
     "output_type": "stream",
     "text": [
      "100%|██████████| 23/23 [00:00<00:00, 27.89it/s]\n"
     ]
    },
    {
     "name": "stdout",
     "output_type": "stream",
     "text": [
      "epoc: 16\ttrain_loss: 0.362\ttrain_acc: 0.871\tval_acc: 0.883\n"
     ]
    },
    {
     "name": "stderr",
     "output_type": "stream",
     "text": [
      "100%|██████████| 23/23 [00:00<00:00, 27.83it/s]\n"
     ]
    },
    {
     "name": "stdout",
     "output_type": "stream",
     "text": [
      "epoc: 17\ttrain_loss: 0.320\ttrain_acc: 0.868\tval_acc: 0.883\n"
     ]
    },
    {
     "name": "stderr",
     "output_type": "stream",
     "text": [
      "100%|██████████| 23/23 [00:00<00:00, 27.49it/s]\n"
     ]
    },
    {
     "name": "stdout",
     "output_type": "stream",
     "text": [
      "epoc: 18\ttrain_loss: 0.297\ttrain_acc: 0.869\tval_acc: 0.900\n"
     ]
    },
    {
     "name": "stderr",
     "output_type": "stream",
     "text": [
      "100%|██████████| 23/23 [00:00<00:00, 27.36it/s]\n"
     ]
    },
    {
     "name": "stdout",
     "output_type": "stream",
     "text": [
      "epoc: 19\ttrain_loss: 0.269\ttrain_acc: 0.895\tval_acc: 0.867\n"
     ]
    }
   ],
   "source": [
    "net.to(\"cuda:0\")\n",
    "train_net(net, train_loader, test_loader, n_iter=20, device=\"cuda:0\")"
   ]
  },
  {
   "cell_type": "code",
   "execution_count": 8,
   "metadata": {},
   "outputs": [],
   "source": [
    "params = net.state_dict()\n",
    "torch.save(params, \"./data/taco_burito.prm\", pickle_protocol=4)"
   ]
  },
  {
   "cell_type": "code",
   "execution_count": 13,
   "metadata": {},
   "outputs": [
    {
     "data": {
      "text/plain": [
       "<matplotlib.legend.Legend at 0x7f45c844b940>"
      ]
     },
     "execution_count": 13,
     "metadata": {},
     "output_type": "execute_result"
    },
    {
     "data": {
      "image/png": "[encoded data removed]",
      "text/plain": [
       "<Figure size 432x288 with 1 Axes>"
      ]
     },
     "metadata": {
      "needs_background": "light"
     },
     "output_type": "display_data"
    }
   ],
   "source": [
    "plt.plot(train_acc, label=\"train_acc\")\n",
    "plt.plot(val_acc, label=\"val_acc\")\n",
    "plt.legend()"
   ]
  },
  {
   "cell_type": "code",
   "execution_count": 14,
   "metadata": {},
   "outputs": [
    {
     "name": "stderr",
     "output_type": "stream",
     "text": [
      "100%|██████████| 23/23 [00:01<00:00, 15.91it/s]\n"
     ]
    },
    {
     "name": "stdout",
     "output_type": "stream",
     "text": [
      "epoc: 0\ttrain_loss: 2.669\ttrain_acc: 0.574\tval_acc: 0.567\n"
     ]
    },
    {
     "name": "stderr",
     "output_type": "stream",
     "text": [
      "100%|██████████| 23/23 [00:01<00:00, 15.91it/s]\n"
     ]
    },
    {
     "name": "stdout",
     "output_type": "stream",
     "text": [
      "epoc: 1\ttrain_loss: 3.220\ttrain_acc: 0.576\tval_acc: 0.633\n"
     ]
    },
    {
     "name": "stderr",
     "output_type": "stream",
     "text": [
      "100%|██████████| 23/23 [00:01<00:00, 16.32it/s]\n"
     ]
    },
    {
     "name": "stdout",
     "output_type": "stream",
     "text": [
      "epoc: 2\ttrain_loss: 2.314\ttrain_acc: 0.645\tval_acc: 0.667\n"
     ]
    },
    {
     "name": "stderr",
     "output_type": "stream",
     "text": [
      "100%|██████████| 23/23 [00:01<00:00, 16.14it/s]\n"
     ]
    },
    {
     "name": "stdout",
     "output_type": "stream",
     "text": [
      "epoc: 3\ttrain_loss: 2.344\ttrain_acc: 0.629\tval_acc: 0.617\n"
     ]
    },
    {
     "name": "stderr",
     "output_type": "stream",
     "text": [
      "100%|██████████| 23/23 [00:01<00:00, 16.36it/s]\n"
     ]
    },
    {
     "name": "stdout",
     "output_type": "stream",
     "text": [
      "epoc: 4\ttrain_loss: 2.330\ttrain_acc: 0.621\tval_acc: 0.517\n"
     ]
    },
    {
     "name": "stderr",
     "output_type": "stream",
     "text": [
      "100%|██████████| 23/23 [00:01<00:00, 16.46it/s]\n"
     ]
    },
    {
     "name": "stdout",
     "output_type": "stream",
     "text": [
      "epoc: 5\ttrain_loss: 2.675\ttrain_acc: 0.650\tval_acc: 0.567\n"
     ]
    },
    {
     "name": "stderr",
     "output_type": "stream",
     "text": [
      "100%|██████████| 23/23 [00:01<00:00, 15.89it/s]\n"
     ]
    },
    {
     "name": "stdout",
     "output_type": "stream",
     "text": [
      "epoc: 6\ttrain_loss: 2.821\ttrain_acc: 0.636\tval_acc: 0.567\n"
     ]
    },
    {
     "name": "stderr",
     "output_type": "stream",
     "text": [
      "100%|██████████| 23/23 [00:01<00:00, 16.24it/s]\n"
     ]
    },
    {
     "name": "stdout",
     "output_type": "stream",
     "text": [
      "epoc: 7\ttrain_loss: 2.350\ttrain_acc: 0.642\tval_acc: 0.600\n"
     ]
    },
    {
     "name": "stderr",
     "output_type": "stream",
     "text": [
      "100%|██████████| 23/23 [00:01<00:00, 15.64it/s]\n"
     ]
    },
    {
     "name": "stdout",
     "output_type": "stream",
     "text": [
      "epoc: 8\ttrain_loss: 2.179\ttrain_acc: 0.643\tval_acc: 0.550\n"
     ]
    },
    {
     "name": "stderr",
     "output_type": "stream",
     "text": [
      "100%|██████████| 23/23 [00:01<00:00, 15.95it/s]\n"
     ]
    },
    {
     "name": "stdout",
     "output_type": "stream",
     "text": [
      "epoc: 9\ttrain_loss: 1.963\ttrain_acc: 0.667\tval_acc: 0.667\n"
     ]
    },
    {
     "name": "stderr",
     "output_type": "stream",
     "text": [
      "100%|██████████| 23/23 [00:01<00:00, 15.64it/s]\n"
     ]
    },
    {
     "name": "stdout",
     "output_type": "stream",
     "text": [
      "epoc: 10\ttrain_loss: 2.077\ttrain_acc: 0.692\tval_acc: 0.500\n"
     ]
    },
    {
     "name": "stderr",
     "output_type": "stream",
     "text": [
      "100%|██████████| 23/23 [00:01<00:00, 16.11it/s]\n"
     ]
    },
    {
     "name": "stdout",
     "output_type": "stream",
     "text": [
      "epoc: 11\ttrain_loss: 1.872\ttrain_acc: 0.656\tval_acc: 0.633\n"
     ]
    },
    {
     "name": "stderr",
     "output_type": "stream",
     "text": [
      "100%|██████████| 23/23 [00:01<00:00, 15.78it/s]\n"
     ]
    },
    {
     "name": "stdout",
     "output_type": "stream",
     "text": [
      "epoc: 12\ttrain_loss: 1.670\ttrain_acc: 0.687\tval_acc: 0.717\n"
     ]
    },
    {
     "name": "stderr",
     "output_type": "stream",
     "text": [
      "100%|██████████| 23/23 [00:01<00:00, 15.96it/s]\n"
     ]
    },
    {
     "name": "stdout",
     "output_type": "stream",
     "text": [
      "epoc: 13\ttrain_loss: 2.093\ttrain_acc: 0.684\tval_acc: 0.533\n"
     ]
    },
    {
     "name": "stderr",
     "output_type": "stream",
     "text": [
      "100%|██████████| 23/23 [00:01<00:00, 15.25it/s]\n"
     ]
    },
    {
     "name": "stdout",
     "output_type": "stream",
     "text": [
      "epoc: 14\ttrain_loss: 1.954\ttrain_acc: 0.691\tval_acc: 0.733\n"
     ]
    },
    {
     "name": "stderr",
     "output_type": "stream",
     "text": [
      "100%|██████████| 23/23 [00:01<00:00, 16.10it/s]\n"
     ]
    },
    {
     "name": "stdout",
     "output_type": "stream",
     "text": [
      "epoc: 15\ttrain_loss: 1.858\ttrain_acc: 0.715\tval_acc: 0.550\n"
     ]
    },
    {
     "name": "stderr",
     "output_type": "stream",
     "text": [
      "100%|██████████| 23/23 [00:01<00:00, 16.37it/s]\n"
     ]
    },
    {
     "name": "stdout",
     "output_type": "stream",
     "text": [
      "epoc: 16\ttrain_loss: 1.928\ttrain_acc: 0.688\tval_acc: 0.683\n"
     ]
    },
    {
     "name": "stderr",
     "output_type": "stream",
     "text": [
      "100%|██████████| 23/23 [00:01<00:00, 16.19it/s]\n"
     ]
    },
    {
     "name": "stdout",
     "output_type": "stream",
     "text": [
      "epoc: 17\ttrain_loss: 1.456\ttrain_acc: 0.723\tval_acc: 0.600\n"
     ]
    },
    {
     "name": "stderr",
     "output_type": "stream",
     "text": [
      "100%|██████████| 23/23 [00:01<00:00, 15.83it/s]\n"
     ]
    },
    {
     "name": "stdout",
     "output_type": "stream",
     "text": [
      "epoc: 18\ttrain_loss: 1.533\ttrain_acc: 0.725\tval_acc: 0.617\n"
     ]
    },
    {
     "name": "stderr",
     "output_type": "stream",
     "text": [
      "100%|██████████| 23/23 [00:01<00:00, 16.62it/s]\n"
     ]
    },
    {
     "name": "stdout",
     "output_type": "stream",
     "text": [
      "epoc: 19\ttrain_loss: 1.475\ttrain_acc: 0.697\tval_acc: 0.633\n"
     ]
    }
   ],
   "source": [
    "conv_net = nn.Sequential(\n",
    "    nn.Conv2d(in_channels=3, out_channels=32, kernel_size=5),\n",
    "    nn.MaxPool2d(2),\n",
    "    nn.ReLU(),\n",
    "    nn.BatchNorm2d(32),\n",
    "    nn.Conv2d(in_channels=32, out_channels=64, kernel_size=5),\n",
    "    nn.MaxPool2d(2),\n",
    "    nn.ReLU(),\n",
    "    nn.BatchNorm2d(64),\n",
    "    nn.Conv2d(in_channels=64, out_channels=128, kernel_size=5),\n",
    "    nn.MaxPool2d(2),\n",
    "    nn.ReLU(),\n",
    "    nn.BatchNorm2d(128),\n",
    "    FlattenLayer()\n",
    ")\n",
    "\n",
    "test_input = torch.ones(1, 3, 224, 224)\n",
    "conv_output_size = conv_net(test_input).size()[-1]\n",
    "\n",
    "net = nn.Sequential(\n",
    "    conv_net,\n",
    "    nn.Linear(conv_output_size, 2)\n",
    ")\n",
    "net.to(\"cuda:0\")\n",
    "\n",
    "train_losses = []\n",
    "train_acc = []\n",
    "val_acc = []\n",
    "\n",
    "train_net(net, train_loader, test_loader, n_iter=20, only_fc=False, device=\"cuda:0\")"
   ]
  },
  {
   "cell_type": "code",
   "execution_count": 15,
   "metadata": {},
   "outputs": [
    {
     "data": {
      "text/plain": [
       "<matplotlib.legend.Legend at 0x7f45c82bac50>"
      ]
     },
     "execution_count": 15,
     "metadata": {},
     "output_type": "execute_result"
    },
    {
     "data": {
      "image/png": "[encoded data removed]",
      "text/plain": [
       "<Figure size 432x288 with 1 Axes>"
      ]
     },
     "metadata": {
      "needs_background": "light"
     },
     "output_type": "display_data"
    }
   ],
   "source": [
    "plt.plot(train_acc, label=\"train_acc\")\n",
    "plt.plot(val_acc, label=\"val_acc\")\n",
    "plt.legend()"
   ]
  },
  {
   "cell_type": "code",
   "execution_count": 16,
   "metadata": {},
   "outputs": [],
   "source": [
    "class DownSizedPairImageFolder(ImageFolder):\n",
    "    def __init__(self, root, transform=None, large_size=128, small_size=32, **kwds):\n",
    "        super().__init__(root, transform=transform, **kwds)\n",
    "        self.large_resizer = transforms.Resize(large_size)\n",
    "        self.small_resizer = transforms.Resize(small_size)\n",
    "        \n",
    "    def __getitem__(self, index):\n",
    "        path, _ = self.imgs[index]\n",
    "        img = self.loader(path)\n",
    "        large_img = self.large_resizer(img)\n",
    "        small_img = self.small_resizer(img)\n",
    "        \n",
    "        if self.transform is not None:\n",
    "            large_img = self.transform(large_img)\n",
    "            small_img = self.transform(small_img)\n",
    "            \n",
    "        return small_img, large_img"
   ]
  },
  {
   "cell_type": "code",
   "execution_count": 17,
   "metadata": {},
   "outputs": [],
   "source": [
    "train_data = DownSizedPairImageFolder(\"./data/lfw-deepfunneled/train\",\n",
    "                                      transform=transforms.ToTensor())\n",
    "test_data = DownSizedPairImageFolder(\"./data/lfw-deepfunneled/test\",\n",
    "                                     transform=transforms.ToTensor())\n",
    "batch_size = 32\n",
    "train_loader = DataLoader(train_data, batch_size=batch_size,\n",
    "                          shuffle=True, num_workers=14)\n",
    "test_loader = DataLoader(test_data, batch_size=batch_size,\n",
    "                         shuffle=True, num_workers=14)"
   ]
  },
  {
   "cell_type": "code",
   "execution_count": 18,
   "metadata": {},
   "outputs": [
    {
     "name": "stdout",
     "output_type": "stream",
     "text": [
      "torch.Size([1, 3, 128, 128])\n"
     ]
    }
   ],
   "source": [
    "net = nn.Sequential(\n",
    "    nn.Conv2d(3, 256, 4, stride=2, padding=1),\n",
    "    nn.ReLU(),\n",
    "    nn.BatchNorm2d(256),\n",
    "    nn.Conv2d(256, 512, 4, stride=2, padding=1),\n",
    "    nn.ReLU(),\n",
    "    nn.BatchNorm2d(512),\n",
    "    nn.ConvTranspose2d(512, 256, 4, stride=2, padding=1),\n",
    "    nn.ReLU(),\n",
    "    nn.BatchNorm2d(256),\n",
    "    nn.ConvTranspose2d(256, 128, 4, stride=2, padding=1),\n",
    "    nn.ReLU(),\n",
    "    nn.BatchNorm2d(128),\n",
    "    nn.ConvTranspose2d(128, 64, 4, stride=2, padding=1),\n",
    "    nn.ReLU(),\n",
    "    nn.BatchNorm2d(64),\n",
    "    nn.ConvTranspose2d(64, 3, 4, stride=2, padding=1)\n",
    ")\n",
    "\n",
    "test_input = torch.ones(1, 3, 32, 32)\n",
    "test_output_size = net(test_input).size()\n",
    "print(test_output_size)"
   ]
  },
  {
   "cell_type": "code",
   "execution_count": 19,
   "metadata": {},
   "outputs": [],
   "source": [
    "import math\n",
    "def psnr(mse, max_v=1.0):\n",
    "    return 10 * math.log10(max_v**2 / mse)\n",
    "\n",
    "def eval_net(net, data_loader, device=\"cpu\"):\n",
    "    net.eval()\n",
    "    ys = []\n",
    "    ypreds = []\n",
    "    for x, y in data_loader:\n",
    "        x = x.to(device)\n",
    "        y = y.to(device)\n",
    "        with torch.no_grad():\n",
    "            y_pred = net(x)\n",
    "        ys.append(y)\n",
    "        ypreds.append(y_pred)\n",
    "    ys = torch.cat(ys)\n",
    "    ypreds = torch.cat(ypreds)\n",
    "    loss = nn.functional.mse_loss(ypreds, ys).item()\n",
    "    score = psnr(loss)\n",
    "    return score\n",
    "\n",
    "train_losses = []\n",
    "train_acc = []\n",
    "val_acc = []\n",
    "\n",
    "def train_net(net, train_loader, test_loader, n_iter=10, device=\"cpu\",\n",
    "              optimizer_cls=optim.Adam, loss_fn=nn.MSELoss()):\n",
    "    optimizer = optimizer_cls(net.parameters())\n",
    "    for epoc in range(n_iter):\n",
    "        running_loss = 0.0\n",
    "        net.train()\n",
    "        n = 0\n",
    "        score = 0\n",
    "        for i, (xx, yy) in tqdm.tqdm(enumerate(train_loader), total=len(train_loader)):\n",
    "            xx = xx.to(device)\n",
    "            yy = yy.to(device)\n",
    "            y_pred = net(xx)\n",
    "            loss = loss_fn(y_pred, yy)\n",
    "            optimizer.zero_grad()\n",
    "            loss.backward()\n",
    "            optimizer.step()\n",
    "            running_loss += loss.item()\n",
    "            n += len(xx)\n",
    "        train_losses.append(running_loss / len(train_loader))\n",
    "        train_acc.append(psnr(train_losses[-1]))\n",
    "        val_acc.append(eval_net(net, test_loader, device))\n",
    "        print(\"epoc: {}\\ttrain_losses: {:.5f}\\ttrain_acc: {:.3f}\\tval_acc: {:.3f}\".format(\n",
    "            epoc, train_losses[-1], train_acc[-1], val_acc[-1]), flush=True)"
   ]
  },
  {
   "cell_type": "code",
   "execution_count": 20,
   "metadata": {},
   "outputs": [
    {
     "name": "stderr",
     "output_type": "stream",
     "text": [
      "100%|██████████| 409/409 [00:14<00:00, 27.56it/s]\n"
     ]
    },
    {
     "name": "stdout",
     "output_type": "stream",
     "text": [
      "epoc: 0\ttrain_losses: 0.01616\ttrain_acc: 17.915\tval_acc: 24.888\n"
     ]
    },
    {
     "name": "stderr",
     "output_type": "stream",
     "text": [
      "100%|██████████| 409/409 [00:14<00:00, 27.71it/s]\n"
     ]
    },
    {
     "name": "stdout",
     "output_type": "stream",
     "text": [
      "epoc: 1\ttrain_losses: 0.00313\ttrain_acc: 25.046\tval_acc: 25.573\n"
     ]
    },
    {
     "name": "stderr",
     "output_type": "stream",
     "text": [
      "100%|██████████| 409/409 [00:14<00:00, 27.53it/s]\n"
     ]
    },
    {
     "name": "stdout",
     "output_type": "stream",
     "text": [
      "epoc: 2\ttrain_losses: 0.00289\ttrain_acc: 25.386\tval_acc: 26.663\n"
     ]
    },
    {
     "name": "stderr",
     "output_type": "stream",
     "text": [
      "100%|██████████| 409/409 [00:14<00:00, 27.81it/s]\n"
     ]
    },
    {
     "name": "stdout",
     "output_type": "stream",
     "text": [
      "epoc: 3\ttrain_losses: 0.00253\ttrain_acc: 25.976\tval_acc: 26.701\n"
     ]
    },
    {
     "name": "stderr",
     "output_type": "stream",
     "text": [
      "100%|██████████| 409/409 [00:14<00:00, 27.84it/s]\n"
     ]
    },
    {
     "name": "stdout",
     "output_type": "stream",
     "text": [
      "epoc: 4\ttrain_losses: 0.00243\ttrain_acc: 26.149\tval_acc: 27.191\n"
     ]
    },
    {
     "name": "stderr",
     "output_type": "stream",
     "text": [
      "100%|██████████| 409/409 [00:14<00:00, 27.68it/s]\n"
     ]
    },
    {
     "name": "stdout",
     "output_type": "stream",
     "text": [
      "epoc: 5\ttrain_losses: 0.00237\ttrain_acc: 26.254\tval_acc: 26.697\n"
     ]
    },
    {
     "name": "stderr",
     "output_type": "stream",
     "text": [
      "100%|██████████| 409/409 [00:15<00:00, 26.56it/s]\n"
     ]
    },
    {
     "name": "stdout",
     "output_type": "stream",
     "text": [
      "epoc: 6\ttrain_losses: 0.00243\ttrain_acc: 26.141\tval_acc: 26.229\n"
     ]
    },
    {
     "name": "stderr",
     "output_type": "stream",
     "text": [
      "100%|██████████| 409/409 [00:15<00:00, 26.41it/s]\n"
     ]
    },
    {
     "name": "stdout",
     "output_type": "stream",
     "text": [
      "epoc: 7\ttrain_losses: 0.00224\ttrain_acc: 26.491\tval_acc: 27.295\n"
     ]
    },
    {
     "name": "stderr",
     "output_type": "stream",
     "text": [
      "100%|██████████| 409/409 [00:15<00:00, 26.51it/s]\n"
     ]
    },
    {
     "name": "stdout",
     "output_type": "stream",
     "text": [
      "epoc: 8\ttrain_losses: 0.00224\ttrain_acc: 26.495\tval_acc: 27.015\n"
     ]
    },
    {
     "name": "stderr",
     "output_type": "stream",
     "text": [
      "100%|██████████| 409/409 [00:15<00:00, 26.41it/s]\n"
     ]
    },
    {
     "name": "stdout",
     "output_type": "stream",
     "text": [
      "epoc: 9\ttrain_losses: 0.00221\ttrain_acc: 26.564\tval_acc: 27.521\n"
     ]
    }
   ],
   "source": [
    "net.to(\"cuda:0\")\n",
    "train_net(net, train_loader, test_loader, device=\"cuda:0\")"
   ]
  },
  {
   "cell_type": "code",
   "execution_count": 21,
   "metadata": {},
   "outputs": [
    {
     "data": {
      "text/plain": [
       "<matplotlib.legend.Legend at 0x7f45c41b7860>"
      ]
     },
     "execution_count": 21,
     "metadata": {},
     "output_type": "execute_result"
    },
    {
     "data": {
      "image/png": "[encoded data removed]",
      "text/plain": [
       "<Figure size 432x288 with 1 Axes>"
      ]
     },
     "metadata": {
      "needs_background": "light"
     },
     "output_type": "display_data"
    }
   ],
   "source": [
    "plt.plot(train_acc, label=\"train_acc\")\n",
    "plt.plot(val_acc, label=\"val_acc\")\n",
    "plt.legend()"
   ]
  },
  {
   "cell_type": "code",
   "execution_count": 22,
   "metadata": {},
   "outputs": [
    {
     "name": "stderr",
     "output_type": "stream",
     "text": [
      "/home/yochimonji/miniconda3/envs/pytorch_v04/lib/python3.6/site-packages/torch/nn/functional.py:1890: UserWarning: nn.functional.upsample is deprecated. Use nn.functional.interpolate instead.\n",
      "  warnings.warn(\"nn.functional.upsample is deprecated. Use nn.functional.interpolate instead.\")\n"
     ]
    }
   ],
   "source": [
    "from torchvision.utils import save_image\n",
    "\n",
    "random_test_loader = DataLoader(test_data, batch_size=4, shuffle=True)\n",
    "it = iter(random_test_loader)\n",
    "x, y = next(it)\n",
    "\n",
    "bl_recon = torch.nn.functional.upsample(x, 128, mode=\"bilinear\", align_corners=True)\n",
    "yp = net(x.to(\"cuda:0\")).to(\"cpu\")\n",
    "\n",
    "save_image(torch.cat([y, bl_recon, yp], 0), \"cnn_upscale.jpg\", nrow=4)"
   ]
  },
  {
   "cell_type": "code",
   "execution_count": 1,
   "metadata": {},
   "outputs": [],
   "source": [
    "import torch\n",
    "from torch import nn, optim\n",
    "from torch.utils.data import Dataset, DataLoader, TensorDataset\n",
    "import tqdm\n",
    "import matplotlib.pyplot as plt\n",
    "from torchvision.datasets import ImageFolder\n",
    "from torchvision import transforms\n",
    "from torchvision.utils import save_image\n",
    "%matplotlib inline"
   ]
  },
  {
   "cell_type": "code",
   "execution_count": 2,
   "metadata": {},
   "outputs": [
    {
     "name": "stdout",
     "output_type": "stream",
     "text": [
      "Dataset ImageFolder\n",
      "    Number of datapoints: 8189\n",
      "    Root Location: ./data/102flowers/\n",
      "    Transforms (if any): Compose(\n",
      "                             Resize(size=80, interpolation=PIL.Image.BILINEAR)\n",
      "                             CenterCrop(size=(64, 64))\n",
      "                             ToTensor()\n",
      "                         )\n",
      "    Target Transforms (if any): None\n",
      "<torch.utils.data.dataloader.DataLoader object at 0x7faeba7a6748>\n"
     ]
    }
   ],
   "source": [
    "img_data = ImageFolder(\"./data/102flowers/\", transform=transforms.Compose(\n",
    "    [transforms.Resize(80), transforms.CenterCrop(64), transforms.ToTensor()]))\n",
    "\n",
    "batch_size = 64\n",
    "img_loader = DataLoader(img_data, batch_size=batch_size,\n",
    "                        shuffle=True, num_workers=8)\n",
    "print(img_data)\n",
    "print(img_loader)"
   ]
  },
  {
   "cell_type": "code",
   "execution_count": 3,
   "metadata": {},
   "outputs": [],
   "source": [
    "nz = 100\n",
    "ngf = 32\n",
    "\n",
    "class GNet(nn.Module):\n",
    "    def __init__(self):\n",
    "        super().__init__()\n",
    "        self.main = nn.Sequential(\n",
    "            nn.ConvTranspose2d(nz, ngf * 8, 4, 1, 0, bias=False),\n",
    "            nn.BatchNorm2d(ngf * 8),\n",
    "            nn.ReLU(inplace=True),\n",
    "            nn.ConvTranspose2d(ngf * 8, ngf * 4, 4, 2, 1, bias=False),\n",
    "            nn.BatchNorm2d(ngf * 4),\n",
    "            nn.ReLU(inplace=True),\n",
    "            nn.ConvTranspose2d(ngf * 4, ngf * 2, 4, 2, 1, bias=False),\n",
    "            nn.BatchNorm2d(ngf * 2),\n",
    "            nn.ReLU(inplace=True),\n",
    "            nn.ConvTranspose2d(ngf * 2, ngf, 4, 2, 1, bias=False),\n",
    "            nn.BatchNorm2d(ngf),\n",
    "            nn.ReLU(inplace=True),\n",
    "            nn.ConvTranspose2d(ngf, 3, 4, 2, 1, bias=False),\n",
    "            nn.Tanh()\n",
    "        )\n",
    "        \n",
    "    def forward(self, x):\n",
    "        out = self.main(x)\n",
    "        return out"
   ]
  },
  {
   "cell_type": "code",
   "execution_count": 4,
   "metadata": {},
   "outputs": [],
   "source": [
    "ndf = 32\n",
    "\n",
    "class DNet(nn.Module):\n",
    "    def __init__(self):\n",
    "        super().__init__()\n",
    "        self.main = nn.Sequential(\n",
    "            nn.Conv2d(3, ndf, 4, 2, 1, bias=False),\n",
    "            nn.LeakyReLU(0.2, inplace=True),\n",
    "            nn.Conv2d(ndf, ndf * 2, 4, 2, 1, bias=False),\n",
    "            nn.BatchNorm2d(ndf * 2),\n",
    "            nn.LeakyReLU(0.2, inplace=True),\n",
    "            nn.Conv2d(ndf * 2, ndf * 4, 4, 2, 1, bias=False),\n",
    "            nn.BatchNorm2d(ndf * 4),\n",
    "            nn.LeakyReLU(0.2, inplace=True),\n",
    "            nn.Conv2d(ndf * 4, ndf * 8, 4, 2, 1, bias=False),\n",
    "            nn.BatchNorm2d(ndf * 8),\n",
    "            nn.LeakyReLU(0.2, inplace=True),\n",
    "            nn.Conv2d(ndf * 8, 1, 4, 1, 0, bias=False)\n",
    "        )\n",
    "        \n",
    "    def forward(self, x):\n",
    "        out = self.main(x)\n",
    "        return out.squeeze()"
   ]
  },
  {
   "cell_type": "code",
   "execution_count": 5,
   "metadata": {},
   "outputs": [],
   "source": [
    "d = DNet().to(\"cuda\")\n",
    "g = GNet().to(\"cuda\")\n",
    "\n",
    "opt_d = optim.Adam(d.parameters(), lr=0.0002, betas=(0.5, 0.999))\n",
    "opt_g = optim.Adam(g.parameters(), lr=0.0002, betas=(0.5, 0.999))\n",
    "\n",
    "ones = torch.ones(batch_size).to(\"cuda\")\n",
    "zeros = torch.zeros(batch_size).to(\"cuda\")\n",
    "loss_f = nn.BCEWithLogitsLoss()\n",
    "\n",
    "fixed_z = torch.randn(batch_size, nz, 1, 1).to(\"cuda\")"
   ]
  },
  {
   "cell_type": "code",
   "execution_count": 6,
   "metadata": {},
   "outputs": [],
   "source": [
    "from statistics import mean\n",
    "\n",
    "def train_dcgan(g, d, opt_g, opt_d, loader):\n",
    "    log_loss_g = []\n",
    "    log_loss_d = []\n",
    "    for real_img, _ in tqdm.tqdm(loader):\n",
    "        batch_len = len(real_img)\n",
    "        real_img = real_img.to(\"cuda\")\n",
    "        \n",
    "        z = torch.randn(batch_len, nz, 1, 1).to(\"cuda\")\n",
    "        fake_img = g(z)\n",
    "        fake_img_tensor = fake_img.detach()\n",
    "        \n",
    "        out = d(fake_img)\n",
    "        loss_g = loss_f(out, ones[: batch_len])\n",
    "        log_loss_g.append(loss_g.item())\n",
    "        \n",
    "        d.zero_grad()\n",
    "        g.zero_grad()\n",
    "        loss_g.backward()\n",
    "        opt_g.step()\n",
    "        \n",
    "        real_out = d(real_img)\n",
    "        loss_d_real = loss_f(real_out, ones[: batch_len])\n",
    "        \n",
    "        fake_img = fake_img_tensor.to(\"cuda\")\n",
    "        fake_out = d(fake_img)\n",
    "        loss_d_fake = loss_f(fake_out, zeros[: batch_len])\n",
    "        \n",
    "        loss_d = loss_d_real + loss_d_fake\n",
    "        log_loss_d.append(loss_d.item())\n",
    "        \n",
    "        d.zero_grad()\n",
    "        g.zero_grad()\n",
    "        loss_d.backward()\n",
    "        opt_d.step()\n",
    "        \n",
    "    return mean(log_loss_g), mean(log_loss_d)"
   ]
  },
  {
   "cell_type": "code",
   "execution_count": 7,
   "metadata": {},
   "outputs": [
    {
     "name": "stderr",
     "output_type": "stream",
     "text": [
      "100%|██████████| 128/128 [00:05<00:00, 24.50it/s]\n",
      "100%|██████████| 128/128 [00:05<00:00, 23.89it/s]\n",
      "100%|██████████| 128/128 [00:06<00:00, 21.18it/s]\n",
      "100%|██████████| 128/128 [00:05<00:00, 22.34it/s]\n",
      "100%|██████████| 128/128 [00:05<00:00, 21.45it/s]\n",
      "100%|██████████| 128/128 [00:05<00:00, 22.10it/s]\n",
      "100%|██████████| 128/128 [00:05<00:00, 22.00it/s]\n",
      "100%|██████████| 128/128 [00:05<00:00, 21.39it/s]\n",
      "100%|██████████| 128/128 [00:05<00:00, 22.77it/s]\n",
      "100%|██████████| 128/128 [00:05<00:00, 22.56it/s]\n",
      "100%|██████████| 128/128 [00:05<00:00, 22.00it/s]\n",
      "100%|██████████| 128/128 [00:05<00:00, 23.91it/s]\n",
      "100%|██████████| 128/128 [00:05<00:00, 23.63it/s]\n",
      "100%|██████████| 128/128 [00:05<00:00, 23.27it/s]\n",
      "100%|██████████| 128/128 [00:05<00:00, 22.51it/s]\n",
      "100%|██████████| 128/128 [00:05<00:00, 23.72it/s]\n",
      "100%|██████████| 128/128 [00:05<00:00, 23.06it/s]\n",
      "100%|██████████| 128/128 [00:05<00:00, 22.22it/s]\n",
      "100%|██████████| 128/128 [00:05<00:00, 23.04it/s]\n",
      "100%|██████████| 128/128 [00:05<00:00, 24.41it/s]\n",
      "100%|██████████| 128/128 [00:05<00:00, 24.56it/s]\n",
      "100%|██████████| 128/128 [00:05<00:00, 24.19it/s]\n",
      "100%|██████████| 128/128 [00:05<00:00, 23.88it/s]\n",
      "100%|██████████| 128/128 [00:05<00:00, 22.85it/s]\n",
      "100%|██████████| 128/128 [00:05<00:00, 22.99it/s]\n",
      "100%|██████████| 128/128 [00:05<00:00, 23.29it/s]\n",
      "100%|██████████| 128/128 [00:05<00:00, 23.50it/s]\n",
      "100%|██████████| 128/128 [00:05<00:00, 23.68it/s]\n",
      "100%|██████████| 128/128 [00:05<00:00, 24.46it/s]\n",
      "100%|██████████| 128/128 [00:05<00:00, 23.77it/s]\n",
      "100%|██████████| 128/128 [00:05<00:00, 21.83it/s]\n",
      "100%|██████████| 128/128 [00:05<00:00, 24.17it/s]\n",
      "100%|██████████| 128/128 [00:05<00:00, 22.81it/s]\n",
      "100%|██████████| 128/128 [00:05<00:00, 23.85it/s]\n",
      "100%|██████████| 128/128 [00:05<00:00, 25.16it/s]\n",
      "100%|██████████| 128/128 [00:05<00:00, 24.09it/s]\n",
      "100%|██████████| 128/128 [00:05<00:00, 25.14it/s]\n",
      "100%|██████████| 128/128 [00:05<00:00, 22.57it/s]\n",
      "100%|██████████| 128/128 [00:05<00:00, 24.09it/s]\n",
      "100%|██████████| 128/128 [00:05<00:00, 22.08it/s]\n",
      "100%|██████████| 128/128 [00:05<00:00, 23.86it/s]\n",
      "100%|██████████| 128/128 [00:05<00:00, 25.19it/s]\n",
      "100%|██████████| 128/128 [00:05<00:00, 22.37it/s]\n",
      "100%|██████████| 128/128 [00:06<00:00, 20.96it/s]\n",
      "100%|██████████| 128/128 [00:05<00:00, 22.56it/s]\n",
      "100%|██████████| 128/128 [00:05<00:00, 23.94it/s]\n",
      "100%|██████████| 128/128 [00:05<00:00, 23.32it/s]\n",
      "100%|██████████| 128/128 [00:05<00:00, 22.17it/s]\n",
      "100%|██████████| 128/128 [00:05<00:00, 22.61it/s]\n",
      "100%|██████████| 128/128 [00:05<00:00, 23.32it/s]\n",
      "100%|██████████| 128/128 [00:05<00:00, 24.17it/s]\n",
      "100%|██████████| 128/128 [00:05<00:00, 23.34it/s]\n",
      "100%|██████████| 128/128 [00:05<00:00, 24.12it/s]\n",
      "100%|██████████| 128/128 [00:05<00:00, 23.01it/s]\n",
      "100%|██████████| 128/128 [00:05<00:00, 22.79it/s]\n",
      "100%|██████████| 128/128 [00:05<00:00, 24.59it/s]\n",
      "100%|██████████| 128/128 [00:05<00:00, 23.98it/s]\n",
      "100%|██████████| 128/128 [00:05<00:00, 21.46it/s]\n",
      "100%|██████████| 128/128 [00:05<00:00, 23.25it/s]\n",
      "100%|██████████| 128/128 [00:05<00:00, 25.01it/s]\n",
      "100%|██████████| 128/128 [00:04<00:00, 25.64it/s]\n",
      "100%|██████████| 128/128 [00:05<00:00, 23.85it/s]\n",
      "100%|██████████| 128/128 [00:05<00:00, 22.01it/s]\n",
      "100%|██████████| 128/128 [00:05<00:00, 24.64it/s]\n",
      "100%|██████████| 128/128 [00:05<00:00, 24.71it/s]\n",
      "100%|██████████| 128/128 [00:05<00:00, 24.65it/s]\n",
      "100%|██████████| 128/128 [00:05<00:00, 24.86it/s]\n",
      "100%|██████████| 128/128 [00:05<00:00, 22.43it/s]\n",
      "100%|██████████| 128/128 [00:05<00:00, 22.82it/s]\n",
      "100%|██████████| 128/128 [00:05<00:00, 23.65it/s]\n",
      "100%|██████████| 128/128 [00:05<00:00, 23.69it/s]\n",
      "100%|██████████| 128/128 [00:05<00:00, 24.29it/s]\n",
      "100%|██████████| 128/128 [00:05<00:00, 23.59it/s]\n",
      "100%|██████████| 128/128 [00:05<00:00, 23.71it/s]\n",
      "100%|██████████| 128/128 [00:05<00:00, 22.06it/s]\n",
      "100%|██████████| 128/128 [00:05<00:00, 22.72it/s]\n",
      "100%|██████████| 128/128 [00:05<00:00, 25.09it/s]\n",
      "100%|██████████| 128/128 [00:05<00:00, 24.03it/s]\n",
      "100%|██████████| 128/128 [00:05<00:00, 22.77it/s]\n",
      "100%|██████████| 128/128 [00:05<00:00, 24.60it/s]\n",
      "100%|██████████| 128/128 [00:05<00:00, 23.06it/s]\n",
      "100%|██████████| 128/128 [00:05<00:00, 22.91it/s]\n",
      "100%|██████████| 128/128 [00:06<00:00, 20.46it/s]\n",
      "100%|██████████| 128/128 [00:05<00:00, 24.27it/s]\n",
      "100%|██████████| 128/128 [00:05<00:00, 22.75it/s]\n",
      "100%|██████████| 128/128 [00:05<00:00, 23.77it/s]\n",
      "100%|██████████| 128/128 [00:05<00:00, 22.98it/s]\n",
      "100%|██████████| 128/128 [00:05<00:00, 24.33it/s]\n",
      "100%|██████████| 128/128 [00:05<00:00, 22.64it/s]\n",
      "100%|██████████| 128/128 [00:05<00:00, 23.55it/s]\n",
      "100%|██████████| 128/128 [00:05<00:00, 23.20it/s]\n",
      "100%|██████████| 128/128 [00:05<00:00, 22.79it/s]\n",
      "100%|██████████| 128/128 [00:05<00:00, 22.60it/s]\n",
      "100%|██████████| 128/128 [00:05<00:00, 24.18it/s]\n",
      "100%|██████████| 128/128 [00:05<00:00, 24.86it/s]\n",
      "100%|██████████| 128/128 [00:05<00:00, 23.14it/s]\n",
      "100%|██████████| 128/128 [00:05<00:00, 24.07it/s]\n",
      "100%|██████████| 128/128 [00:05<00:00, 22.44it/s]\n",
      "100%|██████████| 128/128 [00:05<00:00, 23.14it/s]\n",
      "100%|██████████| 128/128 [00:05<00:00, 23.47it/s]\n",
      "100%|██████████| 128/128 [00:05<00:00, 22.21it/s]\n",
      "100%|██████████| 128/128 [00:05<00:00, 22.55it/s]\n",
      "100%|██████████| 128/128 [00:05<00:00, 22.86it/s]\n",
      "100%|██████████| 128/128 [00:05<00:00, 23.72it/s]\n",
      "100%|██████████| 128/128 [00:05<00:00, 21.71it/s]\n",
      "100%|██████████| 128/128 [00:06<00:00, 20.89it/s]\n",
      "100%|██████████| 128/128 [00:05<00:00, 22.95it/s]\n",
      "100%|██████████| 128/128 [00:05<00:00, 23.55it/s]\n",
      "100%|██████████| 128/128 [00:05<00:00, 22.14it/s]\n",
      "100%|██████████| 128/128 [00:05<00:00, 23.37it/s]\n",
      "100%|██████████| 128/128 [00:05<00:00, 22.89it/s]\n",
      "100%|██████████| 128/128 [00:05<00:00, 23.09it/s]\n",
      "100%|██████████| 128/128 [00:05<00:00, 22.86it/s]\n",
      "100%|██████████| 128/128 [00:05<00:00, 23.60it/s]\n",
      "100%|██████████| 128/128 [00:05<00:00, 22.98it/s]\n",
      "100%|██████████| 128/128 [00:05<00:00, 22.06it/s]\n",
      "100%|██████████| 128/128 [00:05<00:00, 23.13it/s]\n",
      "100%|██████████| 128/128 [00:06<00:00, 21.16it/s]\n",
      "100%|██████████| 128/128 [00:05<00:00, 24.00it/s]\n",
      "100%|██████████| 128/128 [00:05<00:00, 22.17it/s]\n",
      "100%|██████████| 128/128 [00:05<00:00, 23.03it/s]\n",
      "100%|██████████| 128/128 [00:05<00:00, 21.80it/s]\n",
      "100%|██████████| 128/128 [00:05<00:00, 23.47it/s]\n",
      "100%|██████████| 128/128 [00:05<00:00, 22.55it/s]\n",
      "100%|██████████| 128/128 [00:05<00:00, 23.54it/s]\n",
      "100%|██████████| 128/128 [00:05<00:00, 21.89it/s]\n",
      "100%|██████████| 128/128 [00:05<00:00, 22.86it/s]\n",
      "100%|██████████| 128/128 [00:05<00:00, 24.12it/s]\n",
      "100%|██████████| 128/128 [00:05<00:00, 23.59it/s]\n",
      "100%|██████████| 128/128 [00:05<00:00, 22.58it/s]\n",
      "100%|██████████| 128/128 [00:05<00:00, 23.56it/s]\n",
      "100%|██████████| 128/128 [00:05<00:00, 22.23it/s]\n",
      "100%|██████████| 128/128 [00:05<00:00, 22.26it/s]\n",
      "100%|██████████| 128/128 [00:05<00:00, 22.31it/s]\n",
      "100%|██████████| 128/128 [00:05<00:00, 23.59it/s]\n",
      "100%|██████████| 128/128 [00:05<00:00, 22.52it/s]\n",
      "100%|██████████| 128/128 [00:05<00:00, 24.57it/s]\n",
      "100%|██████████| 128/128 [00:05<00:00, 24.28it/s]\n",
      "100%|██████████| 128/128 [00:05<00:00, 23.37it/s]\n",
      "100%|██████████| 128/128 [00:05<00:00, 22.15it/s]\n",
      "100%|██████████| 128/128 [00:05<00:00, 23.51it/s]\n",
      "100%|██████████| 128/128 [00:05<00:00, 22.95it/s]\n",
      "100%|██████████| 128/128 [00:05<00:00, 23.10it/s]\n",
      "100%|██████████| 128/128 [00:05<00:00, 24.41it/s]\n",
      "100%|██████████| 128/128 [00:05<00:00, 24.51it/s]\n",
      "100%|██████████| 128/128 [00:05<00:00, 22.57it/s]\n",
      "100%|██████████| 128/128 [00:05<00:00, 23.47it/s]\n",
      "100%|██████████| 128/128 [00:05<00:00, 22.44it/s]\n",
      "100%|██████████| 128/128 [00:05<00:00, 23.09it/s]\n",
      "100%|██████████| 128/128 [00:05<00:00, 23.62it/s]\n",
      "100%|██████████| 128/128 [00:05<00:00, 23.08it/s]\n",
      "100%|██████████| 128/128 [00:05<00:00, 22.62it/s]\n",
      "100%|██████████| 128/128 [00:05<00:00, 23.67it/s]\n",
      "100%|██████████| 128/128 [00:05<00:00, 21.97it/s]\n",
      "100%|██████████| 128/128 [00:05<00:00, 21.37it/s]\n",
      "100%|██████████| 128/128 [00:05<00:00, 21.84it/s]\n",
      "100%|██████████| 128/128 [00:05<00:00, 22.44it/s]\n",
      "100%|██████████| 128/128 [00:05<00:00, 22.43it/s]\n",
      "100%|██████████| 128/128 [00:05<00:00, 22.17it/s]\n",
      "100%|██████████| 128/128 [00:05<00:00, 22.69it/s]\n",
      "100%|██████████| 128/128 [00:05<00:00, 22.40it/s]\n",
      "100%|██████████| 128/128 [00:05<00:00, 22.92it/s]\n",
      "100%|██████████| 128/128 [00:05<00:00, 23.00it/s]\n",
      "100%|██████████| 128/128 [00:05<00:00, 24.22it/s]\n",
      "100%|██████████| 128/128 [00:05<00:00, 22.33it/s]\n",
      "100%|██████████| 128/128 [00:06<00:00, 20.77it/s]\n",
      "100%|██████████| 128/128 [00:05<00:00, 23.88it/s]\n",
      "100%|██████████| 128/128 [00:05<00:00, 23.82it/s]\n",
      "100%|██████████| 128/128 [00:05<00:00, 22.30it/s]\n",
      "100%|██████████| 128/128 [00:05<00:00, 23.19it/s]\n",
      "100%|██████████| 128/128 [00:05<00:00, 21.63it/s]\n",
      "100%|██████████| 128/128 [00:05<00:00, 22.28it/s]\n",
      "100%|██████████| 128/128 [00:05<00:00, 23.23it/s]\n",
      "100%|██████████| 128/128 [00:06<00:00, 20.96it/s]\n",
      "100%|██████████| 128/128 [00:05<00:00, 21.63it/s]\n",
      "100%|██████████| 128/128 [00:05<00:00, 22.46it/s]\n",
      "100%|██████████| 128/128 [00:05<00:00, 23.45it/s]\n",
      "100%|██████████| 128/128 [00:05<00:00, 23.28it/s]\n",
      "100%|██████████| 128/128 [00:05<00:00, 22.20it/s]\n",
      "100%|██████████| 128/128 [00:05<00:00, 22.19it/s]\n",
      "100%|██████████| 128/128 [00:05<00:00, 22.78it/s]\n",
      "100%|██████████| 128/128 [00:05<00:00, 23.04it/s]\n",
      "100%|██████████| 128/128 [00:05<00:00, 23.03it/s]\n",
      "100%|██████████| 128/128 [00:05<00:00, 22.80it/s]\n",
      "100%|██████████| 128/128 [00:05<00:00, 23.67it/s]\n",
      "100%|██████████| 128/128 [00:05<00:00, 22.42it/s]\n",
      "100%|██████████| 128/128 [00:05<00:00, 21.58it/s]\n",
      "100%|██████████| 128/128 [00:05<00:00, 22.51it/s]\n",
      "100%|██████████| 128/128 [00:05<00:00, 24.26it/s]\n",
      "100%|██████████| 128/128 [00:05<00:00, 24.12it/s]\n",
      "100%|██████████| 128/128 [00:05<00:00, 23.80it/s]\n",
      "100%|██████████| 128/128 [00:05<00:00, 22.67it/s]\n",
      "100%|██████████| 128/128 [00:05<00:00, 22.91it/s]\n",
      "100%|██████████| 128/128 [00:05<00:00, 21.83it/s]\n",
      "100%|██████████| 128/128 [00:05<00:00, 22.99it/s]\n",
      "100%|██████████| 128/128 [00:05<00:00, 21.47it/s]\n",
      "100%|██████████| 128/128 [00:05<00:00, 21.91it/s]\n",
      "100%|██████████| 128/128 [00:05<00:00, 22.11it/s]\n",
      "100%|██████████| 128/128 [00:05<00:00, 22.76it/s]\n",
      "100%|██████████| 128/128 [00:05<00:00, 22.74it/s]\n",
      "100%|██████████| 128/128 [00:05<00:00, 23.92it/s]\n",
      "100%|██████████| 128/128 [00:05<00:00, 23.29it/s]\n",
      "100%|██████████| 128/128 [00:06<00:00, 21.06it/s]\n",
      "100%|██████████| 128/128 [00:05<00:00, 24.38it/s]\n",
      "100%|██████████| 128/128 [00:05<00:00, 24.24it/s]\n",
      "100%|██████████| 128/128 [00:05<00:00, 23.00it/s]\n",
      "100%|██████████| 128/128 [00:05<00:00, 23.83it/s]\n",
      "100%|██████████| 128/128 [00:05<00:00, 22.81it/s]\n",
      "100%|██████████| 128/128 [00:05<00:00, 23.26it/s]\n",
      "100%|██████████| 128/128 [00:05<00:00, 22.47it/s]\n",
      "100%|██████████| 128/128 [00:05<00:00, 22.62it/s]\n",
      "100%|██████████| 128/128 [00:05<00:00, 22.45it/s]\n",
      "100%|██████████| 128/128 [00:05<00:00, 22.32it/s]\n",
      "100%|██████████| 128/128 [00:05<00:00, 23.77it/s]\n",
      "100%|██████████| 128/128 [00:05<00:00, 24.51it/s]\n",
      "100%|██████████| 128/128 [00:05<00:00, 23.11it/s]\n",
      "100%|██████████| 128/128 [00:05<00:00, 23.13it/s]\n",
      "100%|██████████| 128/128 [00:05<00:00, 21.79it/s]\n",
      "100%|██████████| 128/128 [00:05<00:00, 22.96it/s]\n",
      "100%|██████████| 128/128 [00:05<00:00, 21.74it/s]\n",
      "100%|██████████| 128/128 [00:05<00:00, 21.36it/s]\n",
      "100%|██████████| 128/128 [00:05<00:00, 21.85it/s]\n",
      "100%|██████████| 128/128 [00:06<00:00, 21.24it/s]\n",
      "100%|██████████| 128/128 [00:05<00:00, 21.59it/s]\n",
      "100%|██████████| 128/128 [00:06<00:00, 20.86it/s]\n",
      "100%|██████████| 128/128 [00:05<00:00, 22.84it/s]\n",
      "100%|██████████| 128/128 [00:06<00:00, 21.31it/s]\n",
      "100%|██████████| 128/128 [00:05<00:00, 22.52it/s]\n",
      "100%|██████████| 128/128 [00:05<00:00, 22.18it/s]\n",
      "100%|██████████| 128/128 [00:05<00:00, 22.16it/s]\n",
      "100%|██████████| 128/128 [00:05<00:00, 22.29it/s]\n",
      "100%|██████████| 128/128 [00:05<00:00, 23.26it/s]\n",
      "100%|██████████| 128/128 [00:05<00:00, 22.22it/s]\n",
      "100%|██████████| 128/128 [00:05<00:00, 22.87it/s]\n",
      "100%|██████████| 128/128 [00:05<00:00, 21.97it/s]\n",
      "100%|██████████| 128/128 [00:05<00:00, 23.24it/s]\n",
      "100%|██████████| 128/128 [00:05<00:00, 23.68it/s]\n",
      "100%|██████████| 128/128 [00:05<00:00, 23.67it/s]\n",
      "100%|██████████| 128/128 [00:05<00:00, 22.07it/s]\n",
      "100%|██████████| 128/128 [00:05<00:00, 23.53it/s]\n",
      "100%|██████████| 128/128 [00:05<00:00, 22.94it/s]\n",
      "100%|██████████| 128/128 [00:05<00:00, 24.83it/s]\n",
      "100%|██████████| 128/128 [00:05<00:00, 23.65it/s]\n",
      "100%|██████████| 128/128 [00:05<00:00, 23.73it/s]\n",
      "100%|██████████| 128/128 [00:05<00:00, 24.46it/s]\n",
      "100%|██████████| 128/128 [00:05<00:00, 22.90it/s]\n",
      "100%|██████████| 128/128 [00:05<00:00, 23.02it/s]\n",
      "100%|██████████| 128/128 [00:05<00:00, 24.06it/s]\n",
      "100%|██████████| 128/128 [00:05<00:00, 23.56it/s]\n",
      "100%|██████████| 128/128 [00:05<00:00, 21.68it/s]\n",
      "100%|██████████| 128/128 [00:05<00:00, 23.68it/s]\n",
      "100%|██████████| 128/128 [00:05<00:00, 23.37it/s]\n",
      "100%|██████████| 128/128 [00:05<00:00, 21.52it/s]\n",
      "100%|██████████| 128/128 [00:05<00:00, 23.10it/s]\n",
      "100%|██████████| 128/128 [00:05<00:00, 21.96it/s]\n",
      "100%|██████████| 128/128 [00:05<00:00, 22.38it/s]\n",
      "100%|██████████| 128/128 [00:05<00:00, 23.78it/s]\n",
      "100%|██████████| 128/128 [00:05<00:00, 23.82it/s]\n",
      "100%|██████████| 128/128 [00:05<00:00, 22.43it/s]\n",
      "100%|██████████| 128/128 [00:05<00:00, 23.11it/s]\n",
      "100%|██████████| 128/128 [00:05<00:00, 24.10it/s]\n",
      "100%|██████████| 128/128 [00:05<00:00, 21.71it/s]\n",
      "100%|██████████| 128/128 [00:05<00:00, 24.23it/s]\n",
      "100%|██████████| 128/128 [00:05<00:00, 23.18it/s]\n",
      "100%|██████████| 128/128 [00:05<00:00, 23.43it/s]\n",
      "100%|██████████| 128/128 [00:05<00:00, 23.52it/s]\n",
      "100%|██████████| 128/128 [00:05<00:00, 23.32it/s]\n",
      "100%|██████████| 128/128 [00:05<00:00, 23.89it/s]\n",
      "100%|██████████| 128/128 [00:05<00:00, 23.55it/s]\n",
      "100%|██████████| 128/128 [00:05<00:00, 23.14it/s]\n",
      "100%|██████████| 128/128 [00:05<00:00, 21.83it/s]\n",
      "100%|██████████| 128/128 [00:05<00:00, 23.22it/s]\n",
      "100%|██████████| 128/128 [00:05<00:00, 22.44it/s]\n",
      "100%|██████████| 128/128 [00:05<00:00, 23.46it/s]\n",
      "100%|██████████| 128/128 [00:05<00:00, 22.22it/s]\n",
      "100%|██████████| 128/128 [00:05<00:00, 22.62it/s]\n",
      "100%|██████████| 128/128 [00:05<00:00, 22.06it/s]\n",
      "100%|██████████| 128/128 [00:05<00:00, 22.74it/s]\n",
      "100%|██████████| 128/128 [00:05<00:00, 22.07it/s]\n",
      "100%|██████████| 128/128 [00:05<00:00, 23.46it/s]\n",
      "100%|██████████| 128/128 [00:05<00:00, 23.92it/s]\n",
      "100%|██████████| 128/128 [00:05<00:00, 23.53it/s]\n",
      "100%|██████████| 128/128 [00:05<00:00, 22.11it/s]\n",
      "100%|██████████| 128/128 [00:05<00:00, 22.14it/s]\n",
      "100%|██████████| 128/128 [00:05<00:00, 22.12it/s]\n",
      "100%|██████████| 128/128 [00:05<00:00, 21.61it/s]\n",
      "100%|██████████| 128/128 [00:05<00:00, 22.73it/s]\n",
      "100%|██████████| 128/128 [00:05<00:00, 22.02it/s]\n",
      "100%|██████████| 128/128 [00:05<00:00, 23.98it/s]\n",
      "100%|██████████| 128/128 [00:05<00:00, 24.38it/s]\n",
      "100%|██████████| 128/128 [00:05<00:00, 24.56it/s]\n",
      "100%|██████████| 128/128 [00:05<00:00, 22.22it/s]\n",
      "100%|██████████| 128/128 [00:05<00:00, 24.33it/s]\n",
      "100%|██████████| 128/128 [00:05<00:00, 21.94it/s]\n",
      "100%|██████████| 128/128 [00:05<00:00, 23.02it/s]\n",
      "100%|██████████| 128/128 [00:05<00:00, 24.40it/s]\n",
      "100%|██████████| 128/128 [00:05<00:00, 22.27it/s]\n",
      "100%|██████████| 128/128 [00:05<00:00, 22.90it/s]\n",
      "100%|██████████| 128/128 [00:05<00:00, 22.92it/s]\n",
      "100%|██████████| 128/128 [00:05<00:00, 22.27it/s]\n",
      "100%|██████████| 128/128 [00:05<00:00, 23.43it/s]\n"
     ]
    }
   ],
   "source": [
    "for epoch in range(301):\n",
    "    train_dcgan(g, d, opt_g, opt_d, img_loader)\n",
    "    if epoch % 10 == 0:\n",
    "        torch.save(g.state_dict(), \"./params/g_{:03d}.prm\".format(epoch),\n",
    "                   pickle_protocol=4)\n",
    "        torch.save(g.state_dict(), \"./params/d_{:03d}.prm\".format(epoch),\n",
    "                   pickle_protocol=4)\n",
    "        generated_img = g(fixed_z)\n",
    "        save_image(generated_img, \"./dcgan_img/{:03d}.jpg\".format(epoch))"
   ]
  },
  {
   "cell_type": "code",
   "execution_count": null,
   "metadata": {},
   "outputs": [],
   "source": []
  }
 ],
 "metadata": {
  "kernelspec": {
   "display_name": "Python 3",
   "language": "python",
   "name": "python3"
  },
  "language_info": {
   "codemirror_mode": {
    "name": "ipython",
    "version": 3
   },
   "file_extension": ".py",
   "mimetype": "text/x-python",
   "name": "python",
   "nbconvert_exporter": "python",
   "pygments_lexer": "ipython3",
   "version": "3.6.10"
  }
 },
 "nbformat": 4,
 "nbformat_minor": 4
}
