{
 "cells": [
  {
   "cell_type": "code",
   "execution_count": 1,
   "metadata": {},
   "outputs": [],
   "source": [
    "!ulimit -n 4096"
   ]
  },
  {
   "cell_type": "code",
   "execution_count": 4,
   "metadata": {},
   "outputs": [],
   "source": [
    "import torch\n",
    "from torch import nn, optim\n",
    "from torch.utils.data import Dataset, DataLoader, TensorDataset\n",
    "import tqdm\n",
    "import matplotlib.pyplot as plt\n",
    "import pandas as pd\n",
    "from sklearn.model_selection import train_test_split\n",
    "%matplotlib inline"
   ]
  },
  {
   "cell_type": "markdown",
   "metadata": {},
   "source": [
    "## 行列因子分解"
   ]
  },
  {
   "cell_type": "code",
   "execution_count": 7,
   "metadata": {},
   "outputs": [],
   "source": [
    "df = pd.read_csv(\"./data/ml-20m/ratings.csv\")\n",
    "X = df[[\"userId\", \"movieId\"]].values\n",
    "Y = df[[\"rating\"]].values\n",
    "\n",
    "train_X, test_X, train_Y, test_Y = train_test_split(X, Y, test_size=0.1)\n",
    "\n",
    "train_dataset = TensorDataset(torch.tensor(train_X, dtype=torch.int64),\n",
    "                              torch.tensor(train_Y, dtype=torch.float32))\n",
    "test_dataset = TensorDataset(torch.tensor(test_X, dtype=torch.int64),\n",
    "                             torch.tensor(test_Y, dtype=torch.float32))\n",
    "\n",
    "train_loader = DataLoader(train_dataset, batch_size=1024, num_workers=8)\n",
    "test_loader = DataLoader(test_dataset, batch_size=1024)"
   ]
  },
  {
   "cell_type": "code",
   "execution_count": 8,
   "metadata": {},
   "outputs": [],
   "source": [
    "class MatrixFactorization(nn.Module):\n",
    "    def __init__(self, max_user, max_item, k=20):\n",
    "        super().__init__()\n",
    "        self.max_user = max_user\n",
    "        self.max_item = max_item\n",
    "        self.user_emb = nn.Embedding(max_user, k, 0)\n",
    "        self.item_emb = nn.Embedding(max_item, k, 0)\n",
    "        \n",
    "    def forward(self, x):\n",
    "        user_idx = x[:, 0]\n",
    "        item_idx = x[:, 1]\n",
    "        user_feature = self.user_emb(user_idx)\n",
    "        item_feature = self.item_emb(item_idx)\n",
    "        \n",
    "        out = torch.sum(user_feature * item_feature, 1)\n",
    "        out = nn.functional.sigmoid(out) * 5\n",
    "        return out"
   ]
  },
  {
   "cell_type": "code",
   "execution_count": 9,
   "metadata": {},
   "outputs": [],
   "source": [
    "max_user, max_item = X.max(0)\n",
    "max_user = int(max_user)\n",
    "max_item = int(max_item)\n",
    "net = MatrixFactorization(max_user+1, max_item+1)"
   ]
  },
  {
   "cell_type": "code",
   "execution_count": 10,
   "metadata": {},
   "outputs": [],
   "source": [
    "def eval_net(net, loader, score_fn=nn.functional.l1_loss, device=\"cpu\"):\n",
    "    net.eval()\n",
    "    ys = []\n",
    "    ypreds = []\n",
    "    for x, y in loader:\n",
    "        x = x.to(device)\n",
    "        y = y.to(device)\n",
    "        with torch.no_grad():\n",
    "            y_pred = net(x).to(device).view(-1)\n",
    "        ys.append(y)\n",
    "        ypreds.append(y_pred)\n",
    "    score = score_fn(torch.cat(ys).squeeze(), torch.cat(ypreds))\n",
    "    return score.item()"
   ]
  },
  {
   "cell_type": "code",
   "execution_count": 12,
   "metadata": {},
   "outputs": [
    {
     "name": "stderr",
     "output_type": "stream",
     "text": [
      "100%|██████████| 17579/17579 [01:07<00:00, 259.18it/s]\n"
     ]
    },
    {
     "name": "stdout",
     "output_type": "stream",
     "text": [
      "epoch:0\tmean(loss_log):1.613\ttest_score:0.734\n"
     ]
    },
    {
     "name": "stderr",
     "output_type": "stream",
     "text": [
      "100%|██████████| 17579/17579 [01:07<00:00, 258.67it/s]\n"
     ]
    },
    {
     "name": "stdout",
     "output_type": "stream",
     "text": [
      "epoch:1\tmean(loss_log):0.878\ttest_score:0.721\n"
     ]
    },
    {
     "name": "stderr",
     "output_type": "stream",
     "text": [
      "100%|██████████| 17579/17579 [01:08<00:00, 258.03it/s]\n"
     ]
    },
    {
     "name": "stdout",
     "output_type": "stream",
     "text": [
      "epoch:2\tmean(loss_log):0.836\ttest_score:0.719\n"
     ]
    },
    {
     "name": "stderr",
     "output_type": "stream",
     "text": [
      "100%|██████████| 17579/17579 [01:08<00:00, 257.37it/s]\n"
     ]
    },
    {
     "name": "stdout",
     "output_type": "stream",
     "text": [
      "epoch:3\tmean(loss_log):0.817\ttest_score:0.718\n"
     ]
    },
    {
     "name": "stderr",
     "output_type": "stream",
     "text": [
      "100%|██████████| 17579/17579 [01:07<00:00, 258.81it/s]\n"
     ]
    },
    {
     "name": "stdout",
     "output_type": "stream",
     "text": [
      "epoch:4\tmean(loss_log):0.806\ttest_score:0.717\n"
     ]
    }
   ],
   "source": [
    "from statistics import mean\n",
    "\n",
    "net.to(\"cuda:0\")\n",
    "opt = optim.Adam(net.parameters(), lr=0.01)\n",
    "loss_f = nn.MSELoss()\n",
    "\n",
    "for epoch in range(5):\n",
    "    loss_log = []\n",
    "    for x, y in tqdm.tqdm(train_loader):\n",
    "        x = x.to(\"cuda:0\")\n",
    "        y = y.to(\"cuda:0\")\n",
    "        o = net(x)\n",
    "        loss = loss_f(o, y.view(-1))\n",
    "        net.zero_grad()\n",
    "        loss.backward()\n",
    "        opt.step()\n",
    "        loss_log.append(loss.item())\n",
    "    test_score = eval_net(net, test_loader, device=\"cuda:0\")\n",
    "    print(\"epoch:{}\\tmean(loss_log):{:.3f}\\ttest_score:{:.3f}\".\n",
    "         format(epoch, mean(loss_log), test_score), flush=True)"
   ]
  },
  {
   "cell_type": "code",
   "execution_count": 13,
   "metadata": {},
   "outputs": [
    {
     "data": {
      "text/plain": [
       "tensor([3.4899], grad_fn=<MulBackward>)"
      ]
     },
     "execution_count": 13,
     "metadata": {},
     "output_type": "execute_result"
    }
   ],
   "source": [
    "net.to(\"cpu\")\n",
    "query = (1, 10)\n",
    "query = torch.tensor(query, dtype=torch.int64).view(1, -1)\n",
    "net(query)"
   ]
  },
  {
   "cell_type": "code",
   "execution_count": 16,
   "metadata": {},
   "outputs": [
    {
     "name": "stdout",
     "output_type": "stream",
     "text": [
      "tensor([4.9998, 4.9997, 4.9997, 4.9996, 4.9995], grad_fn=<TopkBackward>) tensor([ 28640,  50299, 106272, 107305, 107184])\n"
     ]
    }
   ],
   "source": [
    "query = torch.stack([\n",
    "    torch.zeros(max_item, dtype=torch.float32).fill_(1),\n",
    "    torch.arange(1, max_item+1, dtype=torch.float32)\n",
    "], 1).long()\n",
    "scores, indices = torch.topk(net(query), 5)\n",
    "print(scores, indices)"
   ]
  },
  {
   "cell_type": "code",
   "execution_count": 17,
   "metadata": {},
   "outputs": [],
   "source": [
    "class NeuralMatrixFactorization(nn.Module):\n",
    "    def __init__(self, max_user, max_item, user_k=10, item_k=10, hidden_dim=50):\n",
    "        super().__init__()\n",
    "        self.user_emb = nn.Embedding(max_user, user_k, 0)\n",
    "        self.item_emb = nn.Embedding(max_item, item_k, 0)\n",
    "        self.mlp = nn.Sequential(\n",
    "            nn.Linear(user_k + item_k, hidden_dim),\n",
    "            nn.ReLU(),\n",
    "            nn.BatchNorm1d(hidden_dim),\n",
    "            nn.Linear(hidden_dim, hidden_dim),\n",
    "            nn.ReLU(),\n",
    "            nn.BatchNorm1d(hidden_dim),\n",
    "            nn.Linear(hidden_dim, 1)\n",
    "        )\n",
    "        \n",
    "    def forward(self, x):\n",
    "        user_idx = x[:, 0]\n",
    "        item_idx = x[:, 1]\n",
    "        user_feature = self.user_emb(user_idx)\n",
    "        item_feature = self.item_emb(item_idx)\n",
    "        out = torch.cat([user_feature, item_feature], 1)\n",
    "        out = self.mlp(out)\n",
    "        out = nn.functional.sigmoid(out) * 5\n",
    "        return out.squeeze()"
   ]
  },
  {
   "cell_type": "code",
   "execution_count": 18,
   "metadata": {},
   "outputs": [
    {
     "name": "stderr",
     "output_type": "stream",
     "text": [
      "  0%|          | 0/17579 [00:00<?, ?it/s]/home/yochimonji/miniconda3/envs/pytorch_v04/lib/python3.6/site-packages/torch/nn/functional.py:1006: UserWarning: nn.functional.sigmoid is deprecated. Use torch.sigmoid instead.\n",
      "  warnings.warn(\"nn.functional.sigmoid is deprecated. Use torch.sigmoid instead.\")\n",
      "100%|██████████| 17579/17579 [01:03<00:00, 275.38it/s]\n"
     ]
    },
    {
     "name": "stdout",
     "output_type": "stream",
     "text": [
      "epoch:0\tmean(loss_log):0.755\ttest_score:0.646\n"
     ]
    },
    {
     "name": "stderr",
     "output_type": "stream",
     "text": [
      "100%|██████████| 17579/17579 [01:20<00:00, 217.55it/s]\n"
     ]
    },
    {
     "name": "stdout",
     "output_type": "stream",
     "text": [
      "epoch:1\tmean(loss_log):0.693\ttest_score:0.637\n"
     ]
    },
    {
     "name": "stderr",
     "output_type": "stream",
     "text": [
      "100%|██████████| 17579/17579 [01:20<00:00, 218.74it/s]\n"
     ]
    },
    {
     "name": "stdout",
     "output_type": "stream",
     "text": [
      "epoch:2\tmean(loss_log):0.672\ttest_score:0.633\n"
     ]
    },
    {
     "name": "stderr",
     "output_type": "stream",
     "text": [
      "100%|██████████| 17579/17579 [01:20<00:00, 217.23it/s]\n"
     ]
    },
    {
     "name": "stdout",
     "output_type": "stream",
     "text": [
      "epoch:3\tmean(loss_log):0.658\ttest_score:0.629\n"
     ]
    },
    {
     "name": "stderr",
     "output_type": "stream",
     "text": [
      "100%|██████████| 17579/17579 [01:20<00:00, 218.28it/s]\n"
     ]
    },
    {
     "name": "stdout",
     "output_type": "stream",
     "text": [
      "epoch:4\tmean(loss_log):0.644\ttest_score:0.624\n"
     ]
    }
   ],
   "source": [
    "net = NeuralMatrixFactorization(max_user+1, max_item+1)\n",
    "net.to(\"cuda:0\")\n",
    "opt = optim.Adam(net.parameters(), lr=0.01)\n",
    "loss_f = nn.MSELoss()\n",
    "\n",
    "for epoch in range(5):\n",
    "    loss_log = []\n",
    "    for x, y in tqdm.tqdm(train_loader):\n",
    "        x = x.to(\"cuda:0\")\n",
    "        y = y.to(\"cuda:0\")\n",
    "        o = net(x)\n",
    "        loss = loss_f(o, y.view(-1))\n",
    "        net.zero_grad()\n",
    "        loss.backward()\n",
    "        opt.step()\n",
    "        loss_log.append(loss.item())\n",
    "    test_score = eval_net(net, test_loader, device=\"cuda:0\")\n",
    "    print(\"epoch:{}\\tmean(loss_log):{:.3f}\\ttest_score:{:.3f}\".\n",
    "         format(epoch, mean(loss_log), test_score), flush=True)"
   ]
  },
  {
   "cell_type": "markdown",
   "metadata": {},
   "source": [
    "## ニューラル行列因子分解"
   ]
  },
  {
   "cell_type": "code",
   "execution_count": 27,
   "metadata": {},
   "outputs": [
    {
     "name": "stdout",
     "output_type": "stream",
     "text": [
      "[[0. 1. 1. ... 0. 0. 0.]\n",
      " [0. 1. 0. ... 0. 0. 0.]\n",
      " [0. 0. 0. ... 0. 0. 0.]\n",
      " ...\n",
      " [0. 1. 0. ... 0. 0. 0.]\n",
      " [0. 0. 0. ... 0. 0. 0.]\n",
      " [0. 1. 0. ... 0. 0. 0.]]\n"
     ]
    }
   ],
   "source": [
    "import csv\n",
    "from sklearn.feature_extraction.text import CountVectorizer\n",
    "\n",
    "with open(\"./data/ml-20m/movies.csv\") as fp:\n",
    "    reader = csv.DictReader(fp)\n",
    "    def parse(d):\n",
    "        movieId = int(d[\"movieId\"])\n",
    "        genres = d[\"genres\"]\n",
    "        return movieId, genres\n",
    "    data = [parse(d) for d in reader]\n",
    "    \n",
    "movieIds = [x[0] for x in data]\n",
    "genres = [x[1] for x in data]\n",
    "\n",
    "cv = CountVectorizer(dtype=\"f4\").fit(genres)\n",
    "num_genres = len(cv.get_feature_names())\n",
    "\n",
    "it = cv.transform(genres).toarray()\n",
    "print(it)\n",
    "it = (torch.tensor(g, dtype=torch.float32) for g in it)\n",
    "genre_dict = dict(zip(movieIds, it))"
   ]
  },
  {
   "cell_type": "code",
   "execution_count": 34,
   "metadata": {},
   "outputs": [],
   "source": [
    "def first(xs):\n",
    "    it = iter(xs)\n",
    "    return next(it)\n",
    "\n",
    "class MovieLensDataset(Dataset):\n",
    "    def __init__(self, x, y, genres):\n",
    "        assert len(x) == len(y)\n",
    "        self.x = x\n",
    "        self.y = y\n",
    "        self.genres = genres\n",
    "        self.null_genre = torch.zeros_like(first(genres.values()))\n",
    "        \n",
    "    def __len__(self):\n",
    "        return len(self.x)\n",
    "    \n",
    "    def __getitem__(self, idx):\n",
    "        x = self.x[idx]\n",
    "        y = self.y[idx]\n",
    "        movieId = x[1]\n",
    "        g = self.genres.get(movieId, self.null_genre)\n",
    "        return x, y, g"
   ]
  },
  {
   "cell_type": "code",
   "execution_count": 36,
   "metadata": {},
   "outputs": [],
   "source": [
    "train_dataset = MovieLensDataset(torch.tensor(train_X, dtype=torch.int64),\n",
    "                                 torch.tensor(train_Y, dtype=torch.float32),\n",
    "                                 genre_dict)\n",
    "test_dataset = MovieLensDataset(torch.tensor(test_X, dtype=torch.int64),\n",
    "                                 torch.tensor(test_Y, dtype=torch.float32),\n",
    "                                 genre_dict)\n",
    "train_loader = DataLoader(train_dataset, batch_size=1024,\n",
    "                          shuffle=True, num_workers=8)\n",
    "test_loader = DataLoader(test_dataset, batch_size=1024,\n",
    "                          shuffle=True, num_workers=8)"
   ]
  },
  {
   "cell_type": "code",
   "execution_count": 46,
   "metadata": {},
   "outputs": [],
   "source": [
    "class NeuralMatrixFactorization2(nn.Module):\n",
    "    def __init__(self, max_user, max_item, num_genres,\n",
    "                 user_k=10, item_k=10, hidden_dim=50):\n",
    "        super().__init__()\n",
    "        self.user_emb = nn.Embedding(max_user, user_k, 0)\n",
    "        self.item_emb = nn.Embedding(max_item, item_k, 0)\n",
    "        self.mlp = nn.Sequential(\n",
    "            nn.Linear(user_k + item_k + num_genres, hidden_dim),\n",
    "            nn.ReLU(),\n",
    "            nn.BatchNorm1d(hidden_dim),\n",
    "            nn.Linear(hidden_dim, hidden_dim),\n",
    "            nn.ReLU(),\n",
    "            nn.BatchNorm1d(hidden_dim),\n",
    "            nn.Linear(hidden_dim, 1)\n",
    "        )\n",
    "        \n",
    "    def forward(self, x, g):\n",
    "        user_idx = x[:, 0]\n",
    "        item_idx = x[:, 1]\n",
    "        user_feature = self.user_emb(user_idx)\n",
    "        item_feature = self.item_emb(item_idx)\n",
    "        out = torch.cat([user_feature, item_feature, g], 1)\n",
    "        out = self.mlp(out)\n",
    "        out = torch.sigmoid(out) * 5\n",
    "        return out.squeeze()"
   ]
  },
  {
   "cell_type": "code",
   "execution_count": 47,
   "metadata": {},
   "outputs": [],
   "source": [
    "def eval_net(net, loader, score_fn=nn.functional.l1_loss, device=\"cpu\"):\n",
    "    ys = []\n",
    "    ypreds = []\n",
    "    net.eval()\n",
    "    for x, y, g in loader:\n",
    "        x = x.to(device)\n",
    "        g = g.to(device)\n",
    "        with torch.no_grad():\n",
    "            ypred = net(x, g).to(\"cpu\")\n",
    "        ys.append(y)\n",
    "        ypreds.append(ypred)\n",
    "    score = score_fn(torch.cat(ys).squeeze(), torch.cat(ypreds))\n",
    "    return score"
   ]
  },
  {
   "cell_type": "code",
   "execution_count": 49,
   "metadata": {},
   "outputs": [
    {
     "name": "stderr",
     "output_type": "stream",
     "text": [
      "100%|██████████| 17579/17579 [01:11<00:00, 246.08it/s]\n"
     ]
    },
    {
     "name": "stdout",
     "output_type": "stream",
     "text": [
      "epoch:0\tmean(loss_log):0.751\ttest_score:0.643\n"
     ]
    },
    {
     "name": "stderr",
     "output_type": "stream",
     "text": [
      "100%|██████████| 17579/17579 [01:11<00:00, 245.79it/s]\n"
     ]
    },
    {
     "name": "stdout",
     "output_type": "stream",
     "text": [
      "epoch:1\tmean(loss_log):0.688\ttest_score:0.629\n"
     ]
    },
    {
     "name": "stderr",
     "output_type": "stream",
     "text": [
      "100%|██████████| 17579/17579 [01:09<00:00, 251.31it/s]\n"
     ]
    },
    {
     "name": "stdout",
     "output_type": "stream",
     "text": [
      "epoch:2\tmean(loss_log):0.666\ttest_score:0.623\n"
     ]
    },
    {
     "name": "stderr",
     "output_type": "stream",
     "text": [
      "100%|██████████| 17579/17579 [01:09<00:00, 253.18it/s]\n"
     ]
    },
    {
     "name": "stdout",
     "output_type": "stream",
     "text": [
      "epoch:3\tmean(loss_log):0.650\ttest_score:0.621\n"
     ]
    },
    {
     "name": "stderr",
     "output_type": "stream",
     "text": [
      "100%|██████████| 17579/17579 [01:10<00:00, 250.94it/s]\n"
     ]
    },
    {
     "name": "stdout",
     "output_type": "stream",
     "text": [
      "epoch:4\tmean(loss_log):0.632\ttest_score:0.615\n"
     ]
    }
   ],
   "source": [
    "net = NeuralMatrixFactorization2(max_user+1, max_item+1, num_genres)\n",
    "opt = optim.Adam(net.parameters(), lr=0.01)\n",
    "loss_f = nn.MSELoss()\n",
    "net.to(\"cuda:0\")\n",
    "\n",
    "for epoch in range(5):\n",
    "    loss_log = []\n",
    "    net.train()\n",
    "    for x, y, g in tqdm.tqdm(train_loader):\n",
    "        x = x.cuda()\n",
    "        y = y.cuda()\n",
    "        g = g.cuda()\n",
    "        o = net(x, g)\n",
    "        loss = loss_f(o, y.view(-1))\n",
    "        net.zero_grad()\n",
    "        loss.backward()\n",
    "        opt.step()\n",
    "        loss_log.append(loss.item())\n",
    "    test_score = eval_net(net, test_loader, device=\"cuda:0\")\n",
    "    print(\"epoch:{}\\tmean(loss_log):{:.3f}\\ttest_score:{:.3f}\".format(\n",
    "    epoch, mean(loss_log), test_score), flush=True)"
   ]
  },
  {
   "cell_type": "code",
   "execution_count": 56,
   "metadata": {},
   "outputs": [
    {
     "data": {
      "text/plain": [
       "tensor([3.3540, 3.3512, 3.3538, 3.3534, 3.3515, 3.3520, 3.3532, 3.3533, 3.3529,\n",
       "        3.3550, 3.3522, 3.3514, 3.3532, 3.3533, 3.3528, 3.3521, 3.3531, 3.3531,\n",
       "        3.3502, 3.3525, 3.3519, 3.3545, 3.3542, 3.3525],\n",
       "       device='cuda:0', grad_fn=<SqueezeBackward0>)"
      ]
     },
     "execution_count": 56,
     "metadata": {},
     "output_type": "execute_result"
    }
   ],
   "source": [
    "def make_genre_vector(i, max_len):\n",
    "    g = torch.zeros(max_len)\n",
    "    g[i] = 1\n",
    "    return g\n",
    "\n",
    "query_genres = [make_genre_vector(i, num_genres) for i in range(num_genres)]\n",
    "query_genres = torch.stack(query_genres, 1)\n",
    "\n",
    "query = torch.stack([\n",
    "    torch.empty(num_genres, dtype=torch.int64).fill_(100),\n",
    "    torch.empty(num_genres, dtype=torch.int64).fill_(0)\n",
    "], 1)\n",
    "query_genres = query_genres.cuda()\n",
    "query = query.cuda()\n",
    "net(query, query_genres)"
   ]
  },
  {
   "cell_type": "code",
   "execution_count": null,
   "metadata": {},
   "outputs": [],
   "source": []
  }
 ],
 "metadata": {
  "kernelspec": {
   "display_name": "Python 3",
   "language": "python",
   "name": "python3"
  },
  "language_info": {
   "codemirror_mode": {
    "name": "ipython",
    "version": 3
   },
   "file_extension": ".py",
   "mimetype": "text/x-python",
   "name": "python",
   "nbconvert_exporter": "python",
   "pygments_lexer": "ipython3",
   "version": "3.6.10"
  }
 },
 "nbformat": 4,
 "nbformat_minor": 4
}
