{
 "cells": [
  {
   "cell_type": "code",
   "execution_count": 22,
   "metadata": {},
   "outputs": [
    {
     "data": {
      "text/plain": [
       "torch.Size([100, 10])"
      ]
     },
     "execution_count": 22,
     "metadata": {},
     "output_type": "execute_result"
    }
   ],
   "source": [
    "import numpy as np\n",
    "import torch\n",
    "\n",
    "t = torch.tensor([[1, 2], [3, 4]])\n",
    "t = torch.tensor([[1, 2], [3, 4]], device=\"cuda:0\")\n",
    "t = torch.tensor([[1, 2], [3, 4]], dtype=torch.float64)\n",
    "t = torch.arange(0, 10)\n",
    "\n",
    "# 以下３つ同じ動作\n",
    "t = torch.zeros(100, 10).to(\"cuda:0\")\n",
    "t = torch.zeros(100, 10).cuda()\n",
    "t = torch.zeros(100, 10).to(\"cuda\")\n",
    "\n",
    "t = torch.randn(100, 10)\n",
    "t.size()"
   ]
  },
  {
   "cell_type": "code",
   "execution_count": 23,
   "metadata": {},
   "outputs": [],
   "source": [
    "t = torch.tensor([[1, 2], [3, 4]])\n",
    "x = t.numpy()\n",
    "\n",
    "t = torch.tensor([[1, 2], [3, 4]]).cuda()\n",
    "x = t.to(\"cpu\").numpy()"
   ]
  },
  {
   "cell_type": "code",
   "execution_count": 36,
   "metadata": {},
   "outputs": [
    {
     "name": "stdout",
     "output_type": "stream",
     "text": [
      "t[0, 2]:\n",
      " tensor(3)\n",
      "t[:, :2]:\n",
      " tensor([[1, 2],\n",
      "        [4, 5]])\n",
      "t[:, [1, 2]]:\n",
      " tensor([[2, 3],\n",
      "        [5, 6]])\n",
      "t[t > 3]:\n",
      " tensor([4, 5, 6])\n",
      "t[0, 1] = 100:\n",
      " tensor([[  1, 100,   3],\n",
      "        [  4,   5,   6]])\n",
      "t[:, 1] = 200:\n",
      " tensor([[  1, 200,   3],\n",
      "        [  4, 200,   6]])\n",
      "t[t > 10] = 20\n",
      " tensor([[ 1, 20,  3],\n",
      "        [ 4, 20,  6]])\n"
     ]
    }
   ],
   "source": [
    "t = torch.tensor([[1, 2, 3], [4, 5, 6]])\n",
    "\n",
    "print(\"t[0, 2]:\\n\", t[0, 2])\n",
    "print(\"t[:, :2]:\\n\", t[:, :2])\n",
    "print(\"t[:, [1, 2]]:\\n\", t[:, [1, 2]])\n",
    "print(\"t[t > 3]:\\n\", t[t>3])\n",
    "t[0, 1] = 100\n",
    "print(\"t[0, 1] = 100:\\n\", t)\n",
    "t[:, 1] = 200\n",
    "print(\"t[:, 1] = 200:\\n\", t)\n",
    "t[t > 10] = 20\n",
    "print(\"t[t > 10] = 20\\n\", t)"
   ]
  },
  {
   "cell_type": "code",
   "execution_count": 49,
   "metadata": {},
   "outputs": [
    {
     "name": "stdout",
     "output_type": "stream",
     "text": [
      "v + 10:\n",
      " tensor([11., 12., 13.])\n",
      "v ** 2:\n",
      " tensor([1., 4., 9.])\n",
      "v - w:\n",
      " tensor([  1.,  -8., -17.])\n",
      "2 * v - w / 10 + 6.0:\n",
      " tensor([ 8.,  9., 10.])\n",
      "m * 2.0:\n",
      " tensor([[  0.,   2.,   4.],\n",
      "        [200., 400., 600.]])\n",
      "m + v:\n",
      " tensor([[  1.,   3.,   5.],\n",
      "        [101., 202., 303.]])\n",
      "m + m:\n",
      " tensor([[  0.,   2.,   4.],\n",
      "        [200., 400., 600.]])\n"
     ]
    }
   ],
   "source": [
    "v = torch.tensor([1, 2, 3.])\n",
    "w = torch.tensor([0, 10, 20.])\n",
    "m = torch.tensor([[0, 1, 2], [100, 200, 300.]])\n",
    "\n",
    "v2 = v + 10\n",
    "print(\"v + 10:\\n\", v2)\n",
    "v2 = v ** 2\n",
    "print(\"v ** 2:\\n\", v2)\n",
    "z = v - w\n",
    "print(\"v - w:\\n\", z)\n",
    "u = 2 * v - w / 10 + 6.0\n",
    "print(\"2 * v - w / 10 + 6.0:\\n\", u)\n",
    "\n",
    "print(\"m * 2.0:\\n\", m * 2.0)\n",
    "print(\"m + v:\\n\", m + v)\n",
    "print(\"m + m:\\n\", m + m)"
   ]
  },
  {
   "cell_type": "code",
   "execution_count": 90,
   "metadata": {},
   "outputs": [
    {
     "name": "stdout",
     "output_type": "stream",
     "text": [
      "X:\n",
      " tensor([[ 1.4812,  0.7066, -0.2960],\n",
      "        [ 0.3044,  0.4224,  0.3127]])\n",
      "X * 2 + torch.abs(X):\n",
      " tensor([[ 4.4435,  2.1198, -0.2960],\n",
      "        [ 0.9131,  1.2673,  0.9382]])\n",
      "torch.mean(X):\n",
      " tensor(0.4886)\n",
      "m = X.mean():\n",
      " tensor(0.4886)\n",
      "m.item():\n",
      " 0.4885588586330414\n",
      "X.mean(0):\n",
      " tensor([0.8928, 0.5645, 0.0084])\n"
     ]
    }
   ],
   "source": [
    "X = torch.randn(2, 3)\n",
    "\n",
    "print(\"X:\\n\", X)\n",
    "print(\"X * 2 + torch.abs(X):\\n\", X * 2 + torch.abs(X))\n",
    "print(\"torch.mean(X):\\n\", torch.mean(X))\n",
    "m = X.mean()\n",
    "print(\"m = X.mean():\\n\", m)\n",
    "print(\"m.item():\\n\", m.item())\n",
    "print(\"X.mean(0):\\n\", X.mean(0))"
   ]
  },
  {
   "cell_type": "code",
   "execution_count": 113,
   "metadata": {},
   "outputs": [
    {
     "name": "stdout",
     "output_type": "stream",
     "text": [
      "x1.view(4, 1).shape: torch.Size([4, 1])\n",
      "x1.view(1, -1).shape: torch.Size([1, 4])\n",
      "x2.t().shape:torch.Size([3, 2])\n",
      "torch.cat([x1, x2], dim=1).shape:torch.Size([2, 5])\n",
      "hwc_img_data.shape: torch.Size([100, 64, 32, 3])\n",
      "chw_img_data.shape: torch.Size([100, 3, 64, 32])\n"
     ]
    }
   ],
   "source": [
    "x1 = torch.tensor([[1, 2], [3, 4.]])\n",
    "x2 = torch.tensor([[10, 20, 30], [40, 50, 60.]])\n",
    "\n",
    "print(\"x1.view(4, 1).shape: {}\".format(x1.view(4, 1).shape))\n",
    "print(\"x1.view(1, -1).shape: {}\".format(x1.view(1, -1).size()))\n",
    "print(\"x2.t().shape:{}\".format(x2.t().shape))\n",
    "print(\"torch.cat([x1, x2], dim=1).shape:{}\".format(torch.cat([x1, x2], dim=1).shape))\n",
    "hwc_img_data = torch.rand(100, 64, 32, 3)\n",
    "chw_img_data = hwc_img_data.transpose(1, 2).transpose(1, 3)\n",
    "print(\"hwc_img_data.shape: {}\\nchw_img_data.shape: {}\".format(\n",
    "    hwc_img_data.shape, chw_img_data.shape))"
   ]
  },
  {
   "cell_type": "code",
   "execution_count": 125,
   "metadata": {},
   "outputs": [
    {
     "name": "stdout",
     "output_type": "stream",
     "text": [
      "torch.dot(v, v).shape: torch.Size([])\n",
      "torch.mv(m, v).shape: torch.Size([100])\n",
      "torch.mm(m.t(), m).shape: torch.Size([10, 10])\n",
      "u.shape:torch.Size([100, 10])\ts.shape:torch.Size([10])\tv.shape:torch.Size([10, 10])\n"
     ]
    }
   ],
   "source": [
    "m = torch.randn(100, 10)\n",
    "v = torch.randn(10)\n",
    "\n",
    "print(\"torch.dot(v, v).shape: {}\".format(torch.dot(v, v).shape))\n",
    "print(\"torch.mv(m, v).shape: {}\".format(torch.mv(m, v).shape))\n",
    "print(\"torch.mm(m.t(), m).shape: {}\".format(torch.mm(m.t(), m).shape))\n",
    "u, s, v = torch.svd(m)\n",
    "print(\"u.shape:{}\\ts.shape:{}\\tv.shape:{}\".format(u.shape, s.shape, v.shape))"
   ]
  },
  {
   "cell_type": "code",
   "execution_count": 132,
   "metadata": {},
   "outputs": [
    {
     "name": "stdout",
     "output_type": "stream",
     "text": [
      "tensor([  5.8587, -15.2160, -12.2551])\n",
      "tensor([  5.8587, -15.2160, -12.2551])\n",
      "None\n"
     ]
    }
   ],
   "source": [
    "x = torch.randn(100, 3)\n",
    "\n",
    "a = torch.tensor([1, 2, 3.], requires_grad=True)\n",
    "\n",
    "y = torch.mv(x, a)\n",
    "o = y.sum()\n",
    "\n",
    "o.backward()\n",
    "\n",
    "a.grad != x.sum(0)\n",
    "print(a.grad)\n",
    "print(x.sum(0))\n",
    "print(x.grad)"
   ]
  }
 ],
 "metadata": {
  "kernelspec": {
   "display_name": "Python 3",
   "language": "python",
   "name": "python3"
  },
  "language_info": {
   "codemirror_mode": {
    "name": "ipython",
    "version": 3
   },
   "file_extension": ".py",
   "mimetype": "text/x-python",
   "name": "python",
   "nbconvert_exporter": "python",
   "pygments_lexer": "ipython3",
   "version": "3.6.10"
  }
 },
 "nbformat": 4,
 "nbformat_minor": 4
}
